{
 "cells": [
  {
   "cell_type": "markdown",
   "metadata": {},
   "source": [
    "## Preparing Data from SPY, DIA, QQQ to fit the used datasets in the paper"
   ]
  },
  {
   "cell_type": "code",
   "execution_count": 1,
   "metadata": {},
   "outputs": [],
   "source": [
    "import os\n",
    "import pickle\n",
    "import pandas as pd\n",
    "import numpy as np\n",
    "\n",
    "import config as cfg"
   ]
  },
  {
   "cell_type": "code",
   "execution_count": 2,
   "metadata": {},
   "outputs": [],
   "source": [
    "def load_dfs(folder):\n",
    "    df_spy = pd.read_csv(os.path.join(folder, 'SPY.csv')).drop(columns=['Open','High','Low','Adj Close','Volume'])\n",
    "    df_dia = pd.read_csv(os.path.join(folder, 'DIA.csv')).drop(columns=['Open','High','Low','Adj Close','Volume'])\n",
    "    df_qqq = pd.read_csv(os.path.join(folder, 'QQQ.csv')).drop(columns=['Open','High','Low','Adj Close','Volume'])\n",
    "    \n",
    "    df_spy[\"Close i-1\"] = df_spy[\"Close\"].shift(1, fill_value=0)\n",
    "    df_dia[\"Close i-1\"] = df_dia[\"Close\"].shift(1, fill_value=0)\n",
    "    df_qqq[\"Close i-1\"] = df_qqq[\"Close\"].shift(1, fill_value=0)\n",
    "    \n",
    "    df_spy[\"Returns\"] = (df_spy[\"Close\"] - df_spy[\"Close i-1\"]) / df_spy[\"Close i-1\"]\n",
    "    df_dia[\"Returns\"] = (df_dia[\"Close\"] - df_dia[\"Close i-1\"]) / df_dia[\"Close i-1\"]\n",
    "    df_qqq[\"Returns\"] = (df_qqq[\"Close\"] - df_qqq[\"Close i-1\"]) / df_qqq[\"Close i-1\"]\n",
    "    \n",
    "    return df_spy, df_dia, df_qqq"
   ]
  },
  {
   "cell_type": "markdown",
   "metadata": {},
   "source": [
    "Function creating columns with respects to lags introduced in the paper"
   ]
  },
  {
   "cell_type": "code",
   "execution_count": 3,
   "metadata": {},
   "outputs": [],
   "source": [
    "def prepare_data_SPY(df_spy):\n",
    "    df_SPY_MLP, df_SPY_RNN, df_SPY_PSN = df_spy.copy(), df_spy.copy(), df_spy.copy()\n",
    "    \n",
    "    cpt = 0\n",
    "    for i in [1,3,5,7,8,9,12]:\n",
    "        cpt += 1\n",
    "        df_SPY_MLP['X_'+str(cpt)] = df_SPY_MLP.Returns.shift(i-1)\n",
    "    \n",
    "    cpt = 0\n",
    "    for i in [1,2,3,5,7,8,9,10,12]:\n",
    "        cpt += 1\n",
    "        df_SPY_RNN['X_'+str(cpt)] = df_SPY_RNN.Returns.shift(i-1)\n",
    "        df_SPY_PSN['X_'+str(cpt)] = df_SPY_PSN.Returns.shift(i-1)\n",
    "        \n",
    "    df_SPY_MLP['Target'] = df_SPY_MLP.Returns.shift(-1)\n",
    "    df_SPY_RNN['Target'] = df_SPY_RNN.Returns.shift(-1)\n",
    "    df_SPY_PSN['Target'] = df_SPY_PSN.Returns.shift(-1)\n",
    "    \n",
    "    idx = df_spy.loc[df_spy[\"Date\"] == cfg.TRAIN_START_DATE].index[0]\n",
    "    \n",
    "    dfs_SPY = {\n",
    "        \"MLP\":df_SPY_MLP[idx:-1].reset_index(drop=True),\n",
    "        \"RNN\":df_SPY_RNN[idx:-1].reset_index(drop=True),\n",
    "        \"PSN\":df_SPY_PSN[idx:-1].reset_index(drop=True)\n",
    "    }\n",
    "    \n",
    "    return dfs_SPY\n",
    "\n",
    "def prepare_data_DIA(df_dia):\n",
    "    df_DIA_MLP, df_DIA_RNN, df_DIA_PSN = df_dia.copy(), df_dia.copy(), df_dia.copy()\n",
    "    \n",
    "    cpt = 0\n",
    "    for i in [2,4,5,7,9,10,11]:\n",
    "        cpt += 1\n",
    "        df_DIA_MLP['X_'+str(i)] = df_DIA_MLP.Returns.shift(i-1)\n",
    "    \n",
    "    cpt = 0\n",
    "    for i in [1,3,4,6,7,8,9,10]:\n",
    "        cpt += 1\n",
    "        df_DIA_RNN['X_'+str(i)] = df_DIA_RNN.Returns.shift(i-1)\n",
    "    \n",
    "    cpt = 0\n",
    "    for i in [1,2,5,6,8,9,10]:\n",
    "        cpt += 1\n",
    "        df_DIA_PSN['X_'+str(i)] = df_DIA_PSN.Returns.shift(i-1)\n",
    "        \n",
    "    df_DIA_MLP['Target'] = df_DIA_MLP.Returns.shift(-1)\n",
    "    df_DIA_RNN['Target'] = df_DIA_RNN.Returns.shift(-1)\n",
    "    df_DIA_PSN['Target'] = df_DIA_PSN.Returns.shift(-1)\n",
    "    \n",
    "    idx = df_dia.loc[df_dia[\"Date\"] == cfg.TRAIN_START_DATE].index[0]\n",
    "    \n",
    "    dfs_DIA = {\n",
    "        \"MLP\":df_DIA_MLP[idx:-1].reset_index(drop=True),\n",
    "        \"RNN\":df_DIA_RNN[idx:-1].reset_index(drop=True),\n",
    "        \"PSN\":df_DIA_PSN[idx:-1].reset_index(drop=True)\n",
    "    }\n",
    "    \n",
    "    return dfs_DIA\n",
    "\n",
    "def prepare_data_QQQ(df_qqq):\n",
    "    df_QQQ_MLP, df_QQQ_RNN, df_QQQ_PSN = df_qqq.copy(), df_qqq.copy(), df_qqq.copy()\n",
    "    \n",
    "    cpt = 0\n",
    "    for i in [1,2,3,5,6,8,10,11,12]:\n",
    "        cpt += 1\n",
    "        df_QQQ_MLP['X_'+str(i)] = df_QQQ_MLP.Returns.shift(i-1)\n",
    "    \n",
    "    cpt = 0\n",
    "    for i in [1,4,5,6,7,9,10,12]:\n",
    "        cpt += 1\n",
    "        df_QQQ_RNN['X_'+str(i)] = df_QQQ_RNN.Returns.shift(i-1)\n",
    "    \n",
    "    cpt = 0\n",
    "    for i in [2,4,5,6,7,8,9,10,11]:\n",
    "        cpt += 1\n",
    "        df_QQQ_PSN['X_'+str(i)] = df_QQQ_PSN.Returns.shift(i-1)\n",
    "        \n",
    "    df_QQQ_MLP['Target'] = df_QQQ_MLP.Returns.shift(-1)\n",
    "    df_QQQ_RNN['Target'] = df_QQQ_RNN.Returns.shift(-1)\n",
    "    df_QQQ_PSN['Target'] = df_QQQ_PSN.Returns.shift(-1)\n",
    "    \n",
    "    idx = df_qqq.loc[df_qqq[\"Date\"] == cfg.TRAIN_START_DATE].index[0]\n",
    "    \n",
    "    dfs_QQQ = {\n",
    "        \"MLP\":df_QQQ_MLP[idx:-1].reset_index(drop=True),\n",
    "        \"RNN\":df_QQQ_RNN[idx:-1].reset_index(drop=True),\n",
    "        \"PSN\":df_QQQ_PSN[idx:-1].reset_index(drop=True)\n",
    "    }\n",
    "    \n",
    "    return dfs_QQQ"
   ]
  },
  {
   "cell_type": "markdown",
   "metadata": {},
   "source": [
    "Function splitting the datasets into training, validation and test sets"
   ]
  },
  {
   "cell_type": "code",
   "execution_count": 4,
   "metadata": {},
   "outputs": [],
   "source": [
    "def train_val_test_split(dfs):\n",
    "    ds = {}\n",
    "    for NN in [\"MLP\", \"RNN\", \"PSN\"]:\n",
    "        idx_train_start = dfs[NN].loc[dfs[NN][\"Date\"] == cfg.TRAIN_START_DATE].index[0]\n",
    "        idx_train_stop = dfs[NN].loc[dfs[NN][\"Date\"] == cfg.TRAIN_STOP_DATE].index[0]\n",
    "        idx_val_start = dfs[NN].loc[dfs[NN][\"Date\"] == cfg.VAL_START_DATE].index[0]\n",
    "        idx_val_stop = dfs[NN].loc[dfs[NN][\"Date\"] == cfg.VAL_STOP_DATE].index[0]\n",
    "        idx_test_start = dfs[NN].loc[dfs[NN][\"Date\"] == cfg.TEST_START_DATE].index[0]\n",
    "        idx_test_stop = dfs[NN].loc[dfs[NN][\"Date\"] == cfg.TEST_STOP_DATE].index[0]\n",
    "        \n",
    "        train_ds = dfs[NN][idx_train_start : idx_train_stop + 1]\n",
    "        val_ds = dfs[NN][idx_val_start : idx_val_stop + 1]\n",
    "        test_ds = dfs[NN][idx_test_start : idx_test_stop + 1]\n",
    "        \n",
    "        ds[NN] = {\"train\" : train_ds,\n",
    "                  \"val\" : val_ds,\n",
    "                  \"test\" : test_ds\n",
    "                 }\n",
    "    \n",
    "    return ds"
   ]
  },
  {
   "cell_type": "code",
   "execution_count": 5,
   "metadata": {},
   "outputs": [],
   "source": [
    "def save_dataset(ds, filename):\n",
    "    with open(filename+'.pkl', 'wb') as f:\n",
    "        pickle.dump(ds, f, pickle.HIGHEST_PROTOCOL)"
   ]
  },
  {
   "cell_type": "code",
   "execution_count": 6,
   "metadata": {},
   "outputs": [],
   "source": [
    "df_spy, df_dia, df_qqq = load_dfs(\"data/\")"
   ]
  },
  {
   "cell_type": "code",
   "execution_count": 7,
   "metadata": {},
   "outputs": [],
   "source": [
    "dfs_SPY = prepare_data_SPY(df_spy)\n",
    "dfs_DIA = prepare_data_DIA(df_dia)\n",
    "dfs_QQQ = prepare_data_QQQ(df_qqq)"
   ]
  },
  {
   "cell_type": "code",
   "execution_count": 8,
   "metadata": {},
   "outputs": [],
   "source": [
    "SPY_ds = train_val_test_split(dfs_SPY)\n",
    "DIA_ds = train_val_test_split(dfs_DIA)\n",
    "QQQ_ds = train_val_test_split(dfs_QQQ)"
   ]
  },
  {
   "cell_type": "code",
   "execution_count": 12,
   "metadata": {},
   "outputs": [],
   "source": [
    "save_dataset(SPY_ds, \"data/SPY_ds\")\n",
    "save_dataset(DIA_ds, \"data/DIA_ds\")\n",
    "save_dataset(QQQ_ds, \"data/QQQ_ds\")"
   ]
  },
  {
   "cell_type": "markdown",
   "metadata": {},
   "source": [
    "## [OPTIONAL] Visualizing data"
   ]
  },
  {
   "cell_type": "code",
   "execution_count": 139,
   "metadata": {},
   "outputs": [
    {
     "data": {
      "image/png": "[encoded data removed]",
      "text/plain": [
       "<Figure size 1440x360 with 1 Axes>"
      ]
     },
     "metadata": {
      "needs_background": "light"
     },
     "output_type": "display_data"
    }
   ],
   "source": [
    "import seaborn as sns\n",
    "import matplotlib.pyplot as plt\n",
    "\n",
    "dates = np.array(df_spy['Date'])\n",
    "plt.figure(figsize=(20,5))\n",
    "sns.lineplot(x='Date', y='Close', data=SPY_ds[\"MLP\"][\"train\"], legend=\"brief\", label=\"SPY Train\")\n",
    "sns.lineplot(x='Date', y='Close', data=SPY_ds[\"MLP\"][\"val\"], legend=\"brief\", label=\"SPY Val\")\n",
    "sns.lineplot(x='Date', y='Close', data=SPY_ds[\"MLP\"][\"test\"], legend=\"brief\", label=\"SPY test\")\n",
    "plt.xticks([]);"
   ]
  },
  {
   "cell_type": "code",
   "execution_count": 22,
   "metadata": {},
   "outputs": [
    {
     "name": "stdout",
     "output_type": "stream",
     "text": [
      "Full Data\n",
      "Mean : 0.00052\n",
      "STD : 0.00959\n",
      "Skew : -0.45407\n",
      "Kurtosis : 4.94356\n",
      "\n",
      "Train Data\n",
      "Mean : 0.00032\n",
      "STD : 0.01173\n",
      "Skew : -0.41878\n",
      "Kurtosis : 3.96111\n",
      "\n",
      "In Sample Data\n",
      "Mean : 0.000564\n",
      "STD : 0.010397\n",
      "Skew : -0.473051\n",
      "Kurtosis : 4.825871\n"
     ]
    },
    {
     "name": "stderr",
     "output_type": "stream",
     "text": [
      "/Users/Chayan/Dev/env/ML/lib/python3.7/site-packages/pandas/core/series.py:679: RuntimeWarning: divide by zero encountered in log2\n",
      "  result = getattr(ufunc, method)(*inputs, **kwargs)\n"
     ]
    }
   ],
   "source": [
    "test = pd.read_csv(os.path.join(\"data\", 'SPY.csv')).drop(columns=['Open','High','Low','Adj Close'])\n",
    "test[\"CloseLog\"] = np.log2(test[\"Close\"])\n",
    "test[\"Close i-1\"] = test[\"Close\"].shift(1, fill_value=0)\n",
    "test[\"Returns\"] = (test[\"Close\"] - test[\"Close i-1\"])/test[\"Close i-1\"]\n",
    "test[\"LogReturns\"] = np.log2(test[\"Close\"]) - np.log2(test[\"Close i-1\"])\n",
    "test = test[22:-1].copy()\n",
    "test = test.reset_index(drop=True)\n",
    "print(\"Full Data\")\n",
    "print(\"Mean : {:.5f}\".format(test[\"Returns\"].mean()))\n",
    "print(\"STD : {:.5f}\".format(test[\"Returns\"].std()))\n",
    "print(\"Skew : {:.5f}\".format(test[\"Returns\"].skew()))\n",
    "print(\"Kurtosis : {:.5f}\".format(test[\"Returns\"].kurtosis()))\n",
    "print(\"\")\n",
    "\n",
    "idxtrain = test.loc[test[\"Date\"] == cfg.TRAIN_STOP_DATE].index[0] + 1\n",
    "train = test[:idxtrain]\n",
    "train = train.reset_index(drop=True)\n",
    "print(\"Train Data\")\n",
    "print(\"Mean : {:.5f}\".format(train[\"Returns\"].mean()))\n",
    "print(\"STD : {:.5f}\".format(train[\"Returns\"].std()))\n",
    "print(\"Skew : {:.5f}\".format(train[\"Returns\"].skew()))\n",
    "print(\"Kurtosis : {:.5f}\".format(train[\"Returns\"].kurtosis()))\n",
    "print(\"\")\n",
    "\n",
    "idxtrainval = test.loc[test[\"Date\"] == cfg.VAL_STOP_DATE].index[0] + 1\n",
    "insample = test[:idxtrainval]\n",
    "insample = insample.reset_index(drop=True)\n",
    "print(\"In Sample Data\")\n",
    "print(\"Mean : {:5f}\".format(insample[\"Returns\"].mean()))\n",
    "print(\"STD : {:5f}\".format(insample[\"Returns\"].std()))\n",
    "print(\"Skew : {:5f}\".format(insample[\"Returns\"].skew()))\n",
    "print(\"Kurtosis : {:5f}\".format(insample[\"Returns\"].kurtosis()))"
   ]
  },
  {
   "cell_type": "code",
   "execution_count": 25,
   "metadata": {},
   "outputs": [
    {
     "name": "stdout",
     "output_type": "stream",
     "text": [
      "Full Data\n",
      "Mean : 0.00068\n",
      "STD : 0.01387\n",
      "Skew : -0.55221\n",
      "Kurtosis : 5.20486\n",
      "\n",
      "Train Data\n",
      "Mean : 0.00036\n",
      "STD : 0.01697\n",
      "Skew : -0.52145\n",
      "Kurtosis : 4.18675\n",
      "\n",
      "In Sample Data\n",
      "Mean : 0.000735\n",
      "STD : 0.015033\n",
      "Skew : -0.577109\n",
      "Kurtosis : 5.088339\n"
     ]
    }
   ],
   "source": [
    "print(\"Full Data\")\n",
    "print(\"Mean : {:.5f}\".format(test[\"LogReturns\"].mean()))\n",
    "print(\"STD : {:.5f}\".format(test[\"LogReturns\"].std()))\n",
    "print(\"Skew : {:.5f}\".format(test[\"LogReturns\"].skew()))\n",
    "print(\"Kurtosis : {:.5f}\".format(test[\"LogReturns\"].kurtosis()))\n",
    "print(\"\")\n",
    "\n",
    "idxtrain = test.loc[test[\"Date\"] == cfg.TRAIN_STOP_DATE].index[0] + 1\n",
    "train = test[:idxtrain]\n",
    "train = train.reset_index(drop=True)\n",
    "print(\"Train Data\")\n",
    "print(\"Mean : {:.5f}\".format(train[\"LogReturns\"].mean()))\n",
    "print(\"STD : {:.5f}\".format(train[\"LogReturns\"].std()))\n",
    "print(\"Skew : {:.5f}\".format(train[\"LogReturns\"].skew()))\n",
    "print(\"Kurtosis : {:.5f}\".format(train[\"LogReturns\"].kurtosis()))\n",
    "print(\"\")\n",
    "\n",
    "idxtrainval = test.loc[test[\"Date\"] == cfg.VAL_STOP_DATE].index[0] + 1\n",
    "insample = test[:idxtrainval]\n",
    "insample = insample.reset_index(drop=True)\n",
    "print(\"In Sample Data\")\n",
    "print(\"Mean : {:5f}\".format(insample[\"LogReturns\"].mean()))\n",
    "print(\"STD : {:5f}\".format(insample[\"LogReturns\"].std()))\n",
    "print(\"Skew : {:5f}\".format(insample[\"LogReturns\"].skew()))\n",
    "print(\"Kurtosis : {:5f}\".format(insample[\"LogReturns\"].kurtosis()))"
   ]
  },
  {
   "cell_type": "code",
   "execution_count": null,
   "metadata": {},
   "outputs": [],
   "source": []
  }
 ],
 "metadata": {
  "kernelspec": {
   "display_name": "Python 3",
   "language": "python",
   "name": "python3"
  },
  "language_info": {
   "codemirror_mode": {
    "name": "ipython",
    "version": 3
   },
   "file_extension": ".py",
   "mimetype": "text/x-python",
   "name": "python",
   "nbconvert_exporter": "python",
   "pygments_lexer": "ipython3",
   "version": "3.7.1"
  }
 },
 "nbformat": 4,
 "nbformat_minor": 4
}
