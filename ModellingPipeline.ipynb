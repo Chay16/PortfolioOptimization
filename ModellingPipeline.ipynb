{
 "cells": [
  {
   "cell_type": "code",
   "execution_count": 2,
   "metadata": {},
   "outputs": [],
   "source": [
    "import NN\n",
    "import utils\n",
    "import config as cfg"
   ]
  },
  {
   "cell_type": "markdown",
   "metadata": {},
   "source": [
    "### Load Dataframes"
   ]
  },
  {
   "cell_type": "code",
   "execution_count": null,
   "metadata": {},
   "outputs": [],
   "source": [
    "traindf = utils.load_file(\"[PATH]\")\n",
    "validdf = utils.load_file(\"[PATH]\")\n",
    "testdf  = utils.load_file(\"[PATH]\")"
   ]
  },
  {
   "cell_type": "markdown",
   "metadata": {},
   "source": [
    "### Setup Parameters"
   ]
  },
  {
   "cell_type": "code",
   "execution_count": null,
   "metadata": {},
   "outputs": [],
   "source": [
    "ETF = 'SPY' # 'SPY', 'DIA', 'QQQ'\n",
    "NNtype = 'MLP' # 'MLP', 'RNN', 'PSN'\n",
    "params = cfg.train_parameters[ETF][NNtype]"
   ]
  },
  {
   "cell_type": "markdown",
   "metadata": {},
   "source": [
    "### Initialize DataLoaders"
   ]
  },
  {
   "cell_type": "code",
   "execution_count": null,
   "metadata": {},
   "outputs": [],
   "source": [
    "features_col = []\n",
    "for i in range(params['input_size']):\n",
    "    features_col.append(\"X_\"_str(i+1))\n",
    "target_col   = 'Target'\n",
    "\n",
    "mu, sigma = None, None\n",
    "\n",
    "trainloader = utils.DataFrame2DataLoader(traindf, features_col, target_col, batch_size=8, normalize=False)\n",
    "validloader = utils.DataFrame2DataLoader(validdf, features_col, target_col, batch_size=4, normalize=False)\n",
    "testloader  = utils.DataFrame2DataLoader(testdf, features_col, target_col, batch_size=4, normalize=False)"
   ]
  },
  {
   "cell_type": "markdown",
   "metadata": {},
   "source": [
    "### Instanciate Model"
   ]
  },
  {
   "cell_type": "code",
   "execution_count": null,
   "metadata": {},
   "outputs": [],
   "source": [
    "model = NN.Model(NNtype)\n",
    "model.setup(params[\"input_size\"], \n",
    "            params[\"hidden_size\"],\n",
    "            params[\"output_size\"],\n",
    "            params[\"epochs\"],\n",
    "            params[\"optim\"],\n",
    "            params[\"lr\"],\n",
    "            params[\"momentum\"]\n",
    "           )"
   ]
  },
  {
   "cell_type": "markdown",
   "metadata": {},
   "source": [
    "### Training"
   ]
  },
  {
   "cell_type": "code",
   "execution_count": null,
   "metadata": {},
   "outputs": [],
   "source": [
    "model.train(trainloader, validloader)"
   ]
  },
  {
   "cell_type": "markdown",
   "metadata": {},
   "source": [
    "### Evaluation"
   ]
  },
  {
   "cell_type": "code",
   "execution_count": null,
   "metadata": {},
   "outputs": [],
   "source": [
    "model.evaluate(testloader)"
   ]
  }
 ],
 "metadata": {
  "kernelspec": {
   "display_name": "Python 3",
   "language": "python",
   "name": "python3"
  },
  "language_info": {
   "codemirror_mode": {
    "name": "ipython",
    "version": 3
   },
   "file_extension": ".py",
   "mimetype": "text/x-python",
   "name": "python",
   "nbconvert_exporter": "python",
   "pygments_lexer": "ipython3",
   "version": "3.7.1"
  }
 },
 "nbformat": 4,
 "nbformat_minor": 4
}
