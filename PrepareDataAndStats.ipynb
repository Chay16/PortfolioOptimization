{
 "cells": [
  {
   "cell_type": "code",
   "execution_count": 42,
   "metadata": {},
   "outputs": [],
   "source": [
    "# import\n",
    "import pandas as pd\n",
    "from functools import reduce"
   ]
  },
  {
   "cell_type": "code",
   "execution_count": 43,
   "metadata": {},
   "outputs": [],
   "source": [
    "# all data\n",
    "dia_df = pd.read_csv(\"data/DIA.csv\")\n",
    "qqq_df = pd.read_csv(\"data/QQQ.csv\")\n",
    "spy_df = pd.read_csv(\"data/SPY.csv\")\n",
    "\n",
    "# adding suffix to all df\n",
    "dia_df.columns=dia_df.columns.map(lambda x : x+'_dia' if x !='Date' else x)\n",
    "qqq_df.columns=qqq_df.columns.map(lambda x : x+'_qqq' if x !='Date' else x)\n",
    "spy_df.columns=spy_df.columns.map(lambda x : x+'_spy' if x !='Date' else x)"
   ]
  },
  {
   "cell_type": "code",
   "execution_count": 46,
   "metadata": {},
   "outputs": [],
   "source": [
    "dfs = [dia_df, qqq_df, spy_df]\n",
    "\n",
    "df = reduce(lambda left,right: pd.merge(left,right,on='Date'), dfs)\n",
    "\n",
    "# set date column as index\n",
    "df['Date'] = pd.to_datetime(df['Date'])\n",
    "df.set_index('Date', inplace=True)\n",
    "\n",
    "# keeping only the correct date 03/01/2011 to 13/04/2015\n",
    "Total_df = df.loc[('2011-01-03' <= df.index) & (df.index <= '2015-04-13')]\n",
    "Training_df = df.loc[('2011-01-03' <= df.index) & (df.index <= '2012-12-31')]\n",
    "Test_df = df.loc[('2013-01-02' <= df.index) & (df.index <= '2013-12-31')]\n",
    "Out_of_sample_df = df.loc[('2014-01-02' <= df.index) & (df.index <= '2015-04-13')]"
   ]
  },
  {
   "cell_type": "code",
   "execution_count": 53,
   "metadata": {},
   "outputs": [
    {
     "data": {
      "text/html": [
       "<div>\n",
       "<style scoped>\n",
       "    .dataframe tbody tr th:only-of-type {\n",
       "        vertical-align: middle;\n",
       "    }\n",
       "\n",
       "    .dataframe tbody tr th {\n",
       "        vertical-align: top;\n",
       "    }\n",
       "\n",
       "    .dataframe thead th {\n",
       "        text-align: right;\n",
       "    }\n",
       "</style>\n",
       "<table border=\"1\" class=\"dataframe\">\n",
       "  <thead>\n",
       "    <tr style=\"text-align: right;\">\n",
       "      <th></th>\n",
       "      <th>Datasets</th>\n",
       "      <th>Trading days</th>\n",
       "      <th>Start date</th>\n",
       "      <th>End date</th>\n",
       "    </tr>\n",
       "  </thead>\n",
       "  <tbody>\n",
       "    <tr>\n",
       "      <th>0</th>\n",
       "      <td>Total data-set</td>\n",
       "      <td>1075</td>\n",
       "      <td>03/01/2011</td>\n",
       "      <td>13/04/2015</td>\n",
       "    </tr>\n",
       "    <tr>\n",
       "      <th>1</th>\n",
       "      <td>Training data-set</td>\n",
       "      <td>502</td>\n",
       "      <td>03/01/2011</td>\n",
       "      <td>31/12/2012</td>\n",
       "    </tr>\n",
       "    <tr>\n",
       "      <th>2</th>\n",
       "      <td>Test data-set</td>\n",
       "      <td>252</td>\n",
       "      <td>02/01/2013</td>\n",
       "      <td>31/12/2013</td>\n",
       "    </tr>\n",
       "    <tr>\n",
       "      <th>3</th>\n",
       "      <td>Out-of-sample data-set</td>\n",
       "      <td>321</td>\n",
       "      <td>02/01/2014</td>\n",
       "      <td>13/04/2015</td>\n",
       "    </tr>\n",
       "  </tbody>\n",
       "</table>\n",
       "</div>"
      ],
      "text/plain": [
       "                 Datasets  Trading days  Start date    End date\n",
       "0          Total data-set          1075  03/01/2011  13/04/2015\n",
       "1       Training data-set           502  03/01/2011  31/12/2012\n",
       "2           Test data-set           252  02/01/2013  31/12/2013\n",
       "3  Out-of-sample data-set           321  02/01/2014  13/04/2015"
      ]
     },
     "execution_count": 53,
     "metadata": {},
     "output_type": "execute_result"
    }
   ],
   "source": [
    "# Table 3\n",
    "datasets = [\"Total data-set\", \"Training data-set\", \"Test data-set\", \"Out-of-sample data-set\"]\n",
    "trading_days = [len(Total_df), len(Training_df), len(Test_df), len(Out_of_sample_df)]\n",
    "start_date = [Total_df.index[0].strftime('%d/%m/%Y'), Training_df.index[0].strftime('%d/%m/%Y'), Test_df.index[0].strftime('%d/%m/%Y'), Out_of_sample_df.index[0].strftime('%d/%m/%Y')]\n",
    "end_date = [Total_df.index[-1].strftime('%d/%m/%Y'), Training_df.index[-1].strftime('%d/%m/%Y'), Test_df.index[-1].strftime('%d/%m/%Y'), Out_of_sample_df.index[-1].strftime('%d/%m/%Y')]\n",
    "\n",
    "Table3 = pd.DataFrame({\"Datasets\":datasets, \"Trading days\":trading_days, \"Start date\":start_date, \"End date\": end_date})\n",
    "Table3\n",
    "\n",
    "pd.to_csv(\"table/Table3.csv\", index=False)"
   ]
  },
  {
   "cell_type": "code",
   "execution_count": 49,
   "metadata": {},
   "outputs": [
    {
     "data": {
      "text/plain": [
       "'03/01/2011'"
      ]
     },
     "execution_count": 49,
     "metadata": {},
     "output_type": "execute_result"
    }
   ],
   "source": []
  },
  {
   "cell_type": "code",
   "execution_count": null,
   "metadata": {},
   "outputs": [],
   "source": []
  }
 ],
 "metadata": {
  "kernelspec": {
   "display_name": "Python 3",
   "language": "python",
   "name": "python3"
  },
  "language_info": {
   "codemirror_mode": {
    "name": "ipython",
    "version": 3
   },
   "file_extension": ".py",
   "mimetype": "text/x-python",
   "name": "python",
   "nbconvert_exporter": "python",
   "pygments_lexer": "ipython3",
   "version": "3.7.3"
  }
 },
 "nbformat": 4,
 "nbformat_minor": 4
}
