{
 "cells": [
  {
   "cell_type": "code",
   "execution_count": 1,
   "metadata": {},
   "outputs": [],
   "source": [
    "# import\n",
    "import pandas as pd\n",
    "import numpy as np\n",
    "from functools import reduce\n",
    "\n",
    "import matplotlib.pyplot as plt\n",
    "import seaborn as sns\n",
    "\n",
    "from scipy.stats import skew, kurtosis\n",
    "from utils import jarque_bera_p_value, adf_p_value, load_file, DataFrame2DataLoader\n",
    "\n",
    "import NN\n",
    "import os\n",
    "from torch import load as load_model\n",
    "import config as cfg"
   ]
  },
  {
   "cell_type": "code",
   "execution_count": 2,
   "metadata": {},
   "outputs": [],
   "source": [
    "# all data\n",
    "dia_df = pd.read_csv(\"data/DIA.csv\")\n",
    "qqq_df = pd.read_csv(\"data/QQQ.csv\")\n",
    "spy_df = pd.read_csv(\"data/SPY.csv\")\n",
    "\n",
    "# adding suffix to all df\n",
    "dia_df.columns=dia_df.columns.map(lambda x : x+'_dia' if x !='Date' else x)\n",
    "qqq_df.columns=qqq_df.columns.map(lambda x : x+'_qqq' if x !='Date' else x)\n",
    "spy_df.columns=spy_df.columns.map(lambda x : x+'_spy' if x !='Date' else x)"
   ]
  },
  {
   "cell_type": "code",
   "execution_count": 3,
   "metadata": {},
   "outputs": [],
   "source": [
    "dfs = [dia_df, qqq_df, spy_df]\n",
    "\n",
    "df = reduce(lambda left,right: pd.merge(left,right,on='Date'), dfs)\n",
    "\n",
    "# set date column as index\n",
    "df['Date'] = pd.to_datetime(df['Date'])\n",
    "df.set_index('Date', inplace=True)\n",
    "\n",
    "# keeping only the correct date 03/01/2011 to 13/04/2015\n",
    "Total_df = df.loc[('2011-01-03' <= df.index) & (df.index <= '2015-04-13')]\n",
    "Training_df = df.loc[('2011-01-03' <= df.index) & (df.index <= '2012-12-31')]\n",
    "Test_df = df.loc[('2013-01-02' <= df.index) & (df.index <= '2013-12-31')]\n",
    "Out_of_sample_df = df.loc[('2014-01-02' <= df.index) & (df.index <= '2015-04-13')]"
   ]
  },
  {
   "cell_type": "markdown",
   "metadata": {},
   "source": [
    "# Figure 1"
   ]
  },
  {
   "cell_type": "code",
   "execution_count": 58,
   "metadata": {},
   "outputs": [],
   "source": [
    "ETF_df = Total_df[['Close_dia', 'Close_qqq', 'Close_spy']].copy()"
   ]
  },
  {
   "cell_type": "code",
   "execution_count": 59,
   "metadata": {},
   "outputs": [
    {
     "data": {
      "text/html": [
       "<div>\n",
       "<style scoped>\n",
       "    .dataframe tbody tr th:only-of-type {\n",
       "        vertical-align: middle;\n",
       "    }\n",
       "\n",
       "    .dataframe tbody tr th {\n",
       "        vertical-align: top;\n",
       "    }\n",
       "\n",
       "    .dataframe thead th {\n",
       "        text-align: right;\n",
       "    }\n",
       "</style>\n",
       "<table border=\"1\" class=\"dataframe\">\n",
       "  <thead>\n",
       "    <tr style=\"text-align: right;\">\n",
       "      <th></th>\n",
       "      <th>Close_dia</th>\n",
       "      <th>Close_qqq</th>\n",
       "      <th>Close_spy</th>\n",
       "    </tr>\n",
       "    <tr>\n",
       "      <th>Date</th>\n",
       "      <th></th>\n",
       "      <th></th>\n",
       "      <th></th>\n",
       "    </tr>\n",
       "  </thead>\n",
       "  <tbody>\n",
       "    <tr>\n",
       "      <th>2011-01-03</th>\n",
       "      <td>116.410004</td>\n",
       "      <td>55.310001</td>\n",
       "      <td>127.050003</td>\n",
       "    </tr>\n",
       "    <tr>\n",
       "      <th>2011-01-04</th>\n",
       "      <td>116.639999</td>\n",
       "      <td>55.270000</td>\n",
       "      <td>126.980003</td>\n",
       "    </tr>\n",
       "    <tr>\n",
       "      <th>2011-01-05</th>\n",
       "      <td>117.040001</td>\n",
       "      <td>55.740002</td>\n",
       "      <td>127.639999</td>\n",
       "    </tr>\n",
       "    <tr>\n",
       "      <th>2011-01-06</th>\n",
       "      <td>116.779999</td>\n",
       "      <td>55.919998</td>\n",
       "      <td>127.389999</td>\n",
       "    </tr>\n",
       "    <tr>\n",
       "      <th>2011-01-07</th>\n",
       "      <td>116.570000</td>\n",
       "      <td>55.869999</td>\n",
       "      <td>127.139999</td>\n",
       "    </tr>\n",
       "    <tr>\n",
       "      <th>...</th>\n",
       "      <td>...</td>\n",
       "      <td>...</td>\n",
       "      <td>...</td>\n",
       "    </tr>\n",
       "    <tr>\n",
       "      <th>2015-04-07</th>\n",
       "      <td>178.419998</td>\n",
       "      <td>105.800003</td>\n",
       "      <td>207.279999</td>\n",
       "    </tr>\n",
       "    <tr>\n",
       "      <th>2015-04-08</th>\n",
       "      <td>178.750000</td>\n",
       "      <td>106.639999</td>\n",
       "      <td>207.979996</td>\n",
       "    </tr>\n",
       "    <tr>\n",
       "      <th>2015-04-09</th>\n",
       "      <td>179.399994</td>\n",
       "      <td>107.309998</td>\n",
       "      <td>208.899994</td>\n",
       "    </tr>\n",
       "    <tr>\n",
       "      <th>2015-04-10</th>\n",
       "      <td>180.369995</td>\n",
       "      <td>107.750000</td>\n",
       "      <td>210.039993</td>\n",
       "    </tr>\n",
       "    <tr>\n",
       "      <th>2015-04-13</th>\n",
       "      <td>179.639999</td>\n",
       "      <td>107.480003</td>\n",
       "      <td>209.089996</td>\n",
       "    </tr>\n",
       "  </tbody>\n",
       "</table>\n",
       "<p>1075 rows × 3 columns</p>\n",
       "</div>"
      ],
      "text/plain": [
       "             Close_dia   Close_qqq   Close_spy\n",
       "Date                                          \n",
       "2011-01-03  116.410004   55.310001  127.050003\n",
       "2011-01-04  116.639999   55.270000  126.980003\n",
       "2011-01-05  117.040001   55.740002  127.639999\n",
       "2011-01-06  116.779999   55.919998  127.389999\n",
       "2011-01-07  116.570000   55.869999  127.139999\n",
       "...                ...         ...         ...\n",
       "2015-04-07  178.419998  105.800003  207.279999\n",
       "2015-04-08  178.750000  106.639999  207.979996\n",
       "2015-04-09  179.399994  107.309998  208.899994\n",
       "2015-04-10  180.369995  107.750000  210.039993\n",
       "2015-04-13  179.639999  107.480003  209.089996\n",
       "\n",
       "[1075 rows x 3 columns]"
      ]
     },
     "execution_count": 59,
     "metadata": {},
     "output_type": "execute_result"
    }
   ],
   "source": [
    "ETF_df"
   ]
  },
  {
   "cell_type": "code",
   "execution_count": 116,
   "metadata": {},
   "outputs": [
    {
     "data": {
      "image/png": "[encoded data removed]",
      "text/plain": [
       "<Figure size 864x432 with 1 Axes>"
      ]
     },
     "metadata": {},
     "output_type": "display_data"
    }
   ],
   "source": [
    "sns.set()\n",
    "\n",
    "fig, ax = plt.subplots(figsize = (12,6))\n",
    "\n",
    "fig = sns.lineplot(x=ETF_df.index, y='Close_spy', data=ETF_df, label=\"SPY\", color='black')\n",
    "sns.lineplot(x=ETF_df.index, y='Close_dia', data=ETF_df, label=\"DIA\", color='grey')\n",
    "sns.lineplot(x=ETF_df.index, y='Close_qqq', data=ETF_df, label=\"QQQ\", color='black')\n",
    "\n",
    "ax.lines[2].set_linestyle(\"--\")\n",
    "\n",
    "ax.set_ylabel('ETF CLOSING PRICE', fontsize=18, fontweight='bold')\n",
    "ax.set(ylim=(40, 220))\n",
    "\n",
    "x_dates = ETF_df.index.strftime('%d-%m-%Y').sort_values().unique()\n",
    "ax.set_xticklabels(labels=x_dates, rotation=90, ha='right');\n",
    "\n",
    "plt.savefig('table/Figure1.png')"
   ]
  },
  {
   "cell_type": "markdown",
   "metadata": {},
   "source": [
    "# Table 2"
   ]
  },
  {
   "cell_type": "code",
   "execution_count": 6,
   "metadata": {},
   "outputs": [
    {
     "data": {
      "text/html": [
       "<div>\n",
       "<style scoped>\n",
       "    .dataframe tbody tr th:only-of-type {\n",
       "        vertical-align: middle;\n",
       "    }\n",
       "\n",
       "    .dataframe tbody tr th {\n",
       "        vertical-align: top;\n",
       "    }\n",
       "\n",
       "    .dataframe thead th {\n",
       "        text-align: right;\n",
       "    }\n",
       "</style>\n",
       "<table border=\"1\" class=\"dataframe\">\n",
       "  <thead>\n",
       "    <tr style=\"text-align: right;\">\n",
       "      <th></th>\n",
       "      <th>SPY</th>\n",
       "      <th>DIA</th>\n",
       "      <th>QQQ</th>\n",
       "    </tr>\n",
       "  </thead>\n",
       "  <tbody>\n",
       "    <tr>\n",
       "      <th>Mean</th>\n",
       "      <td>5.443915e-04</td>\n",
       "      <td>4.971633e-04</td>\n",
       "      <td>6.659312e-04</td>\n",
       "    </tr>\n",
       "    <tr>\n",
       "      <th>STD</th>\n",
       "      <td>9.592380e-03</td>\n",
       "      <td>8.863505e-03</td>\n",
       "      <td>1.052343e-02</td>\n",
       "    </tr>\n",
       "    <tr>\n",
       "      <th>Skew</th>\n",
       "      <td>-5.687756e-01</td>\n",
       "      <td>-5.178219e-01</td>\n",
       "      <td>-4.048366e-01</td>\n",
       "    </tr>\n",
       "    <tr>\n",
       "      <th>Fisher_Kurtosis</th>\n",
       "      <td>5.238305e+00</td>\n",
       "      <td>4.371469e+00</td>\n",
       "      <td>3.177268e+00</td>\n",
       "    </tr>\n",
       "    <tr>\n",
       "      <th>Pearson_Kurtosis</th>\n",
       "      <td>8.238305e+00</td>\n",
       "      <td>7.371469e+00</td>\n",
       "      <td>6.177268e+00</td>\n",
       "    </tr>\n",
       "    <tr>\n",
       "      <th>Jarque-Bera_p_value</th>\n",
       "      <td>0.000000e+00</td>\n",
       "      <td>0.000000e+00</td>\n",
       "      <td>0.000000e+00</td>\n",
       "    </tr>\n",
       "    <tr>\n",
       "      <th>ADF_p_value</th>\n",
       "      <td>6.154752e-30</td>\n",
       "      <td>8.649508e-30</td>\n",
       "      <td>7.087245e-19</td>\n",
       "    </tr>\n",
       "  </tbody>\n",
       "</table>\n",
       "</div>"
      ],
      "text/plain": [
       "                              SPY           DIA           QQQ\n",
       "Mean                 5.443915e-04  4.971633e-04  6.659312e-04\n",
       "STD                  9.592380e-03  8.863505e-03  1.052343e-02\n",
       "Skew                -5.687756e-01 -5.178219e-01 -4.048366e-01\n",
       "Fisher_Kurtosis      5.238305e+00  4.371469e+00  3.177268e+00\n",
       "Pearson_Kurtosis     8.238305e+00  7.371469e+00  6.177268e+00\n",
       "Jarque-Bera_p_value  0.000000e+00  0.000000e+00  0.000000e+00\n",
       "ADF_p_value          6.154752e-30  8.649508e-30  7.087245e-19"
      ]
     },
     "execution_count": 6,
     "metadata": {},
     "output_type": "execute_result"
    }
   ],
   "source": [
    "Total_adj_close_df = Total_df[['Adj Close_dia', 'Adj Close_qqq', 'Adj Close_spy']].copy()\n",
    "Total_adj_close_df[['prev_adj_Close_dia', 'prev_adj_Close_qqq', 'prev_adj_Close_spy']] = Total_adj_close_df[['Adj Close_dia', 'Adj Close_qqq', 'Adj Close_spy']].shift(periods=1)\n",
    "\n",
    "Total_adj_close_df['DIA'] = np.log(Total_adj_close_df['Adj Close_dia']) - np.log(Total_adj_close_df['prev_adj_Close_dia'])\n",
    "Total_adj_close_df['QQQ'] = np.log(Total_adj_close_df['Adj Close_qqq']) - np.log(Total_adj_close_df['prev_adj_Close_qqq'])\n",
    "Total_adj_close_df['SPY'] = np.log(Total_adj_close_df['Adj Close_spy']) - np.log(Total_adj_close_df['prev_adj_Close_spy'])\n",
    "\n",
    "Adj_close_stats_df = Total_adj_close_df.iloc[1:,-3:].copy()\n",
    "# Adj_close_stats_df\n",
    "\n",
    "Adj_close_Table = pd.DataFrame({'Mean':Adj_close_stats_df.apply(np.mean),\n",
    "                                     'STD':Adj_close_stats_df.apply(np.std),\n",
    "                                     'Skew':Adj_close_stats_df.apply(skew),\n",
    "                                     'Fisher_Kurtosis':Adj_close_stats_df.apply(kurtosis, args=(0, True)),\n",
    "                                     'Pearson_Kurtosis':Adj_close_stats_df.apply(kurtosis, args=(0, False)),\n",
    "#                                      'Jarque-Bera_t_stat':Adj_close_stats_df.apply(jarque_bera_t_stat),\n",
    "                                     'Jarque-Bera_p_value':Adj_close_stats_df.apply(jarque_bera_p_value),\n",
    "#                                      'ADF_t_stat':Adj_close_stats_df.apply(adf_t_stat),\n",
    "                                     'ADF_p_value':Adj_close_stats_df.apply(adf_p_value)})\n",
    "Table2 = Adj_close_Table.transpose()[['SPY', 'DIA', 'QQQ']]\n",
    "\n",
    "Table2.to_csv(\"table/Table2.csv\", index=True)\n",
    "Table2"
   ]
  },
  {
   "cell_type": "code",
   "execution_count": 7,
   "metadata": {},
   "outputs": [
    {
     "data": {
      "text/html": [
       "<div>\n",
       "<style scoped>\n",
       "    .dataframe tbody tr th:only-of-type {\n",
       "        vertical-align: middle;\n",
       "    }\n",
       "\n",
       "    .dataframe tbody tr th {\n",
       "        vertical-align: top;\n",
       "    }\n",
       "\n",
       "    .dataframe thead th {\n",
       "        text-align: right;\n",
       "    }\n",
       "</style>\n",
       "<table border=\"1\" class=\"dataframe\">\n",
       "  <thead>\n",
       "    <tr style=\"text-align: right;\">\n",
       "      <th></th>\n",
       "      <th>SPY</th>\n",
       "      <th>DIA</th>\n",
       "      <th>QQQ</th>\n",
       "    </tr>\n",
       "  </thead>\n",
       "  <tbody>\n",
       "    <tr>\n",
       "      <th>SPY</th>\n",
       "      <td>1.000000</td>\n",
       "      <td>0.955254</td>\n",
       "      <td>0.887686</td>\n",
       "    </tr>\n",
       "    <tr>\n",
       "      <th>DIA</th>\n",
       "      <td>0.955254</td>\n",
       "      <td>1.000000</td>\n",
       "      <td>0.805231</td>\n",
       "    </tr>\n",
       "    <tr>\n",
       "      <th>QQQ</th>\n",
       "      <td>0.887686</td>\n",
       "      <td>0.805231</td>\n",
       "      <td>1.000000</td>\n",
       "    </tr>\n",
       "  </tbody>\n",
       "</table>\n",
       "</div>"
      ],
      "text/plain": [
       "          SPY       DIA       QQQ\n",
       "SPY  1.000000  0.955254  0.887686\n",
       "DIA  0.955254  1.000000  0.805231\n",
       "QQQ  0.887686  0.805231  1.000000"
      ]
     },
     "execution_count": 7,
     "metadata": {},
     "output_type": "execute_result"
    }
   ],
   "source": [
    "# Correlation matrix (Spearman's rank)\n",
    "Spearman_corr = Adj_close_stats_df[['SPY', 'DIA', 'QQQ']].corr(method=\"spearman\")\n",
    "\n",
    "Spearman_corr.to_csv(\"table/Spearman_correlation.csv\", index=True)\n",
    "Spearman_corr"
   ]
  },
  {
   "cell_type": "code",
   "execution_count": 8,
   "metadata": {},
   "outputs": [
    {
     "data": {
      "text/html": [
       "<div>\n",
       "<style scoped>\n",
       "    .dataframe tbody tr th:only-of-type {\n",
       "        vertical-align: middle;\n",
       "    }\n",
       "\n",
       "    .dataframe tbody tr th {\n",
       "        vertical-align: top;\n",
       "    }\n",
       "\n",
       "    .dataframe thead th {\n",
       "        text-align: right;\n",
       "    }\n",
       "</style>\n",
       "<table border=\"1\" class=\"dataframe\">\n",
       "  <thead>\n",
       "    <tr style=\"text-align: right;\">\n",
       "      <th></th>\n",
       "      <th>SPY</th>\n",
       "      <th>DIA</th>\n",
       "      <th>QQQ</th>\n",
       "    </tr>\n",
       "  </thead>\n",
       "  <tbody>\n",
       "    <tr>\n",
       "      <th>SPY</th>\n",
       "      <td>1.000000</td>\n",
       "      <td>0.972872</td>\n",
       "      <td>0.926548</td>\n",
       "    </tr>\n",
       "    <tr>\n",
       "      <th>DIA</th>\n",
       "      <td>0.972872</td>\n",
       "      <td>1.000000</td>\n",
       "      <td>0.871434</td>\n",
       "    </tr>\n",
       "    <tr>\n",
       "      <th>QQQ</th>\n",
       "      <td>0.926548</td>\n",
       "      <td>0.871434</td>\n",
       "      <td>1.000000</td>\n",
       "    </tr>\n",
       "  </tbody>\n",
       "</table>\n",
       "</div>"
      ],
      "text/plain": [
       "          SPY       DIA       QQQ\n",
       "SPY  1.000000  0.972872  0.926548\n",
       "DIA  0.972872  1.000000  0.871434\n",
       "QQQ  0.926548  0.871434  1.000000"
      ]
     },
     "execution_count": 8,
     "metadata": {},
     "output_type": "execute_result"
    }
   ],
   "source": [
    "# Correlation matrix (Pearson's method)\n",
    "Pearson_corr = Adj_close_stats_df[['SPY', 'DIA', 'QQQ']].corr(method=\"pearson\")\n",
    "\n",
    "Pearson_corr.to_csv(\"table/Pearson_correlation.csv\", index=True)\n",
    "Pearson_corr"
   ]
  },
  {
   "cell_type": "markdown",
   "metadata": {},
   "source": [
    "# Table 3"
   ]
  },
  {
   "cell_type": "code",
   "execution_count": 117,
   "metadata": {},
   "outputs": [
    {
     "data": {
      "text/html": [
       "<div>\n",
       "<style scoped>\n",
       "    .dataframe tbody tr th:only-of-type {\n",
       "        vertical-align: middle;\n",
       "    }\n",
       "\n",
       "    .dataframe tbody tr th {\n",
       "        vertical-align: top;\n",
       "    }\n",
       "\n",
       "    .dataframe thead th {\n",
       "        text-align: right;\n",
       "    }\n",
       "</style>\n",
       "<table border=\"1\" class=\"dataframe\">\n",
       "  <thead>\n",
       "    <tr style=\"text-align: right;\">\n",
       "      <th></th>\n",
       "      <th>Datasets</th>\n",
       "      <th>Trading days</th>\n",
       "      <th>Start date</th>\n",
       "      <th>End date</th>\n",
       "    </tr>\n",
       "  </thead>\n",
       "  <tbody>\n",
       "    <tr>\n",
       "      <th>0</th>\n",
       "      <td>Total data-set</td>\n",
       "      <td>1075</td>\n",
       "      <td>03/01/2011</td>\n",
       "      <td>13/04/2015</td>\n",
       "    </tr>\n",
       "    <tr>\n",
       "      <th>1</th>\n",
       "      <td>Training data-set</td>\n",
       "      <td>502</td>\n",
       "      <td>03/01/2011</td>\n",
       "      <td>31/12/2012</td>\n",
       "    </tr>\n",
       "    <tr>\n",
       "      <th>2</th>\n",
       "      <td>Test data-set</td>\n",
       "      <td>252</td>\n",
       "      <td>02/01/2013</td>\n",
       "      <td>31/12/2013</td>\n",
       "    </tr>\n",
       "    <tr>\n",
       "      <th>3</th>\n",
       "      <td>Out-of-sample data-set</td>\n",
       "      <td>321</td>\n",
       "      <td>02/01/2014</td>\n",
       "      <td>13/04/2015</td>\n",
       "    </tr>\n",
       "  </tbody>\n",
       "</table>\n",
       "</div>"
      ],
      "text/plain": [
       "                 Datasets  Trading days  Start date    End date\n",
       "0          Total data-set          1075  03/01/2011  13/04/2015\n",
       "1       Training data-set           502  03/01/2011  31/12/2012\n",
       "2           Test data-set           252  02/01/2013  31/12/2013\n",
       "3  Out-of-sample data-set           321  02/01/2014  13/04/2015"
      ]
     },
     "execution_count": 117,
     "metadata": {},
     "output_type": "execute_result"
    }
   ],
   "source": [
    "# Table 3\n",
    "datasets = [\"Total data-set\", \"Training data-set\", \"Test data-set\", \"Out-of-sample data-set\"]\n",
    "trading_days = [len(Total_df), len(Training_df), len(Test_df), len(Out_of_sample_df)]\n",
    "start_date = [Total_df.index[0].strftime('%d/%m/%Y'), Training_df.index[0].strftime('%d/%m/%Y'), Test_df.index[0].strftime('%d/%m/%Y'), Out_of_sample_df.index[0].strftime('%d/%m/%Y')]\n",
    "end_date = [Total_df.index[-1].strftime('%d/%m/%Y'), Training_df.index[-1].strftime('%d/%m/%Y'), Test_df.index[-1].strftime('%d/%m/%Y'), Out_of_sample_df.index[-1].strftime('%d/%m/%Y')]\n",
    "\n",
    "Table3 = pd.DataFrame({\"Datasets\":datasets, \"Trading days\":trading_days, \"Start date\":start_date, \"End date\": end_date})\n",
    "\n",
    "Table3.to_csv(\"table/Table3.csv\", index=False)\n",
    "Table3"
   ]
  },
  {
   "cell_type": "markdown",
   "metadata": {},
   "source": [
    "# Table 5"
   ]
  },
  {
   "cell_type": "markdown",
   "metadata": {},
   "source": [
    "Pesaran-Timmermann test and Diebold Mariano test"
   ]
  },
  {
   "cell_type": "code",
   "execution_count": 13,
   "metadata": {},
   "outputs": [],
   "source": [
    "# Pesaran-Timmermann test\n",
    "#https://purehost.bath.ac.uk/ws/portalfiles/portal/189214729/Forecasting_directional_change.pdf\n",
    "#https://www.real-statistics.com/time-series-analysis/forecasting-accuracy/pesaran-timmermann-test/\n",
    "#https://www.economicsnetwork.ac.uk/showcase/cook_directional\n",
    "#\n",
    "#\n",
    "# Diebold Mariano test\n",
    "# References:\n",
    "#\n",
    "# Harvey, D., Leybourne, S., & Newbold, P. (1997). Testing the equality of \n",
    "#   prediction mean squared errors. International Journal of forecasting, \n",
    "#   13(2), 281-291.\n",
    "#\n",
    "# Diebold, F. X. and Mariano, R. S. (1995), Comparing predictive accuracy, \n",
    "#   Journal of business & economic statistics 13(3), 253-264."
   ]
  },
  {
   "cell_type": "code",
   "execution_count": 20,
   "metadata": {
    "scrolled": true
   },
   "outputs": [
    {
     "name": "stdout",
     "output_type": "stream",
     "text": [
      "Sequential(\n",
      "  (0): Linear(in_features=7, out_features=6, bias=True)\n",
      "  (1): Sigmoid()\n",
      "  (2): Linear(in_features=6, out_features=1, bias=True)\n",
      ")\n",
      "SGD (\n",
      "Parameter Group 0\n",
      "    dampening: 0\n",
      "    lr: 0.003\n",
      "    momentum: 0.004\n",
      "    nesterov: False\n",
      "    weight_decay: 0\n",
      ")\n",
      "Test MAE : 0.005540 | Test MAPE  : 1.100655 | Test RSME : 0.000054 | Test Theil-U 0.929284\n",
      "RNN(\n",
      "  (rnn): RNN(9, 6)\n",
      "  (fc): Linear(in_features=6, out_features=1, bias=True)\n",
      ")\n",
      "SGD (\n",
      "Parameter Group 0\n",
      "    dampening: 0\n",
      "    lr: 0.003\n",
      "    momentum: 0.005\n",
      "    nesterov: False\n",
      "    weight_decay: 0\n",
      ")\n",
      "Test MAE : 0.006091 | Test MAPE  : 2.762408 | Test RSME : 0.000062 | Test Theil-U 0.736161\n",
      "PSN(\n",
      "  (fc): Linear(in_features=9, out_features=5, bias=True)\n",
      ")\n",
      "SGD (\n",
      "Parameter Group 0\n",
      "    dampening: 0\n",
      "    lr: 0.4\n",
      "    momentum: 0.5\n",
      "    nesterov: False\n",
      "    weight_decay: 0\n",
      ")\n",
      "Test MAE : 0.005535 | Test MAPE  : 1.503290 | Test RSME : 0.000055 | Test Theil-U 0.858845\n",
      "Sequential(\n",
      "  (0): Linear(in_features=7, out_features=9, bias=True)\n",
      "  (1): Sigmoid()\n",
      "  (2): Linear(in_features=9, out_features=1, bias=True)\n",
      ")\n",
      "SGD (\n",
      "Parameter Group 0\n",
      "    dampening: 0\n",
      "    lr: 0.002\n",
      "    momentum: 0.005\n",
      "    nesterov: False\n",
      "    weight_decay: 0\n",
      ")\n",
      "Test MAE : 0.005390 | Test MAPE  : 3.646228 | Test RSME : 0.000052 | Test Theil-U 0.926919\n",
      "RNN(\n",
      "  (rnn): RNN(8, 7)\n",
      "  (fc): Linear(in_features=7, out_features=1, bias=True)\n",
      ")\n",
      "SGD (\n",
      "Parameter Group 0\n",
      "    dampening: 0\n",
      "    lr: 0.005\n",
      "    momentum: 0.006\n",
      "    nesterov: False\n",
      "    weight_decay: 0\n",
      ")\n",
      "Test MAE : 0.005624 | Test MAPE  : 10.524327 | Test RSME : 0.000054 | Test Theil-U 0.769070\n",
      "PSN(\n",
      "  (fc): Linear(in_features=7, out_features=6, bias=True)\n",
      ")\n",
      "SGD (\n",
      "Parameter Group 0\n",
      "    dampening: 0\n",
      "    lr: 0.3\n",
      "    momentum: 0.5\n",
      "    nesterov: False\n",
      "    weight_decay: 0\n",
      ")\n",
      "Test MAE : 0.005406 | Test MAPE  : 5.425974 | Test RSME : 0.000054 | Test Theil-U 0.855376\n",
      "Sequential(\n",
      "  (0): Linear(in_features=9, out_features=8, bias=True)\n",
      "  (1): Sigmoid()\n",
      "  (2): Linear(in_features=8, out_features=1, bias=True)\n",
      ")\n",
      "SGD (\n",
      "Parameter Group 0\n",
      "    dampening: 0\n",
      "    lr: 0.003\n",
      "    momentum: 0.005\n",
      "    nesterov: False\n",
      "    weight_decay: 0\n",
      ")\n",
      "Test MAE : 0.006587 | Test MAPE  : 2.376193 | Test RSME : 0.000076 | Test Theil-U 0.912130\n",
      "RNN(\n",
      "  (rnn): RNN(8, 10)\n",
      "  (fc): Linear(in_features=10, out_features=1, bias=True)\n",
      ")\n",
      "SGD (\n",
      "Parameter Group 0\n",
      "    dampening: 0\n",
      "    lr: 0.002\n",
      "    momentum: 0.005\n",
      "    nesterov: False\n",
      "    weight_decay: 0\n",
      ")\n",
      "Test MAE : 0.006885 | Test MAPE  : 18.319845 | Test RSME : 0.000083 | Test Theil-U 0.848236\n",
      "PSN(\n",
      "  (fc): Linear(in_features=9, out_features=8, bias=True)\n",
      ")\n",
      "SGD (\n",
      "Parameter Group 0\n",
      "    dampening: 0\n",
      "    lr: 0.3\n",
      "    momentum: 0.4\n",
      "    nesterov: False\n",
      "    weight_decay: 0\n",
      ")\n",
      "Test MAE : 0.006590 | Test MAPE  : 9.227055 | Test RSME : 0.000077 | Test Theil-U 0.872018\n"
     ]
    }
   ],
   "source": [
    "Table5 = pd.DataFrame()\n",
    "\n",
    "for ETF in ['SPY', 'DIA', 'QQQ']:\n",
    "    Table = pd.DataFrame({\"ETF\":[ETF]})\n",
    "    for NNtype in ['MLP', 'RNN', 'PSN']:\n",
    "        params = cfg.train_parameters[ETF][NNtype]\n",
    "        if ETF == \"SPY\":\n",
    "            inputs_lag = cfg.SPYfeatures[NNtype]\n",
    "        elif ETF == \"DIA\":\n",
    "            inputs_lag = cfg.DIAfeatures[NNtype]\n",
    "        else:\n",
    "            inputs_lag = cfg.QQQfeatures[NNtype]\n",
    "        \n",
    "        features_col = []\n",
    "        for i in inputs_lag:\n",
    "            features_col.append(\"Return_\" + str(i))\n",
    "        target_col   = 'Target'\n",
    "        df  = load_file(os.path.join(\"data\", ETF, NNtype, \"Test.pkl\"))\n",
    "        dataloader = DataFrame2DataLoader(df, features_col, target_col, batch_size=8, normalize=False)\n",
    "        \n",
    "        modelloaded = NN.Model(NNtype)\n",
    "        modelloaded.setup(params[\"input_size\"],\n",
    "                          params[\"hidden_size\"],\n",
    "                          params[\"output_size\"],\n",
    "                          1000,#params[\"epochs\"],\n",
    "                          params[\"optim\"],\n",
    "                          params[\"lr\"],\n",
    "                          params[\"momentum\"])\n",
    "        modelloaded.model.load_state_dict(load_model(os.path.join(\"models\", ETF, NNtype, \"ckpt.pth\")))\n",
    "        modelloaded.evaluate(dataloader)\n",
    "        \n",
    "        Table[NNtype] = modelloaded.testPT       \n",
    "    Table5 = pd.concat([Table5,Table],ignore_index=True)\n",
    "# Table5.to_csv(\"table/Table5.csv\", index=True) "
   ]
  },
  {
   "cell_type": "code",
   "execution_count": 21,
   "metadata": {},
   "outputs": [
    {
     "data": {
      "text/html": [
       "<div>\n",
       "<style scoped>\n",
       "    .dataframe tbody tr th:only-of-type {\n",
       "        vertical-align: middle;\n",
       "    }\n",
       "\n",
       "    .dataframe tbody tr th {\n",
       "        vertical-align: top;\n",
       "    }\n",
       "\n",
       "    .dataframe thead th {\n",
       "        text-align: right;\n",
       "    }\n",
       "</style>\n",
       "<table border=\"1\" class=\"dataframe\">\n",
       "  <thead>\n",
       "    <tr style=\"text-align: right;\">\n",
       "      <th></th>\n",
       "      <th>ETF</th>\n",
       "      <th>MLP</th>\n",
       "      <th>RNN</th>\n",
       "      <th>PSN</th>\n",
       "    </tr>\n",
       "  </thead>\n",
       "  <tbody>\n",
       "    <tr>\n",
       "      <th>0</th>\n",
       "      <td>SPY</td>\n",
       "      <td>101.472760</td>\n",
       "      <td>34.506263</td>\n",
       "      <td>68.707281</td>\n",
       "    </tr>\n",
       "    <tr>\n",
       "      <th>1</th>\n",
       "      <td>DIA</td>\n",
       "      <td>73.384838</td>\n",
       "      <td>47.603206</td>\n",
       "      <td>54.733460</td>\n",
       "    </tr>\n",
       "    <tr>\n",
       "      <th>2</th>\n",
       "      <td>QQQ</td>\n",
       "      <td>95.983499</td>\n",
       "      <td>24.562251</td>\n",
       "      <td>74.079547</td>\n",
       "    </tr>\n",
       "  </tbody>\n",
       "</table>\n",
       "</div>"
      ],
      "text/plain": [
       "   ETF         MLP        RNN        PSN\n",
       "0  SPY  101.472760  34.506263  68.707281\n",
       "1  DIA   73.384838  47.603206  54.733460\n",
       "2  QQQ   95.983499  24.562251  74.079547"
      ]
     },
     "execution_count": 21,
     "metadata": {},
     "output_type": "execute_result"
    }
   ],
   "source": [
    "Table5"
   ]
  },
  {
   "cell_type": "code",
   "execution_count": 5,
   "metadata": {},
   "outputs": [
    {
     "name": "stdout",
     "output_type": "stream",
     "text": [
      "Sequential(\n",
      "  (0): Linear(in_features=7, out_features=6, bias=True)\n",
      "  (1): Sigmoid()\n",
      "  (2): Linear(in_features=6, out_features=1, bias=True)\n",
      ")\n",
      "SGD (\n",
      "Parameter Group 0\n",
      "    dampening: 0\n",
      "    lr: 0.003\n",
      "    momentum: 0.004\n",
      "    nesterov: False\n",
      "    weight_decay: 0\n",
      ")\n",
      "Test MAE : 0.005540 | Test MAPE  : 1.100655 | Test RSME : 0.000054 | Test Theil-U 0.929284\n"
     ]
    }
   ],
   "source": [
    "ETF = \"SPY\"\n",
    "NNtype = \"MLP\"\n",
    "\n",
    "params = cfg.train_parameters[ETF][NNtype]\n",
    "if ETF == \"SPY\":\n",
    "    inputs_lag = cfg.SPYfeatures[NNtype]\n",
    "elif ETF == \"DIA\":\n",
    "    inputs_lag = cfg.DIAfeatures[NNtype]\n",
    "else:\n",
    "    inputs_lag = cfg.QQQfeatures[NNtype]\n",
    "\n",
    "features_col = []\n",
    "for i in inputs_lag:\n",
    "    features_col.append(\"Return_\" + str(i))\n",
    "target_col   = 'Target'\n",
    "df  = load_file(os.path.join(\"data\", ETF, NNtype, \"Test.pkl\"))\n",
    "dataloader = DataFrame2DataLoader(df, features_col, target_col, batch_size=8, normalize=False)\n",
    "\n",
    "modelloaded = NN.Model(NNtype)\n",
    "modelloaded.setup(params[\"input_size\"],\n",
    "                  params[\"hidden_size\"],\n",
    "                  params[\"output_size\"],\n",
    "                  1000,#params[\"epochs\"],\n",
    "                  params[\"optim\"],\n",
    "                  params[\"lr\"],\n",
    "                  params[\"momentum\"])\n",
    "modelloaded.model.load_state_dict(load_model(os.path.join(\"models\", ETF, NNtype, \"ckpt.pth\")))\n",
    "modelloaded.evaluate(dataloader)"
   ]
  },
  {
   "cell_type": "code",
   "execution_count": 10,
   "metadata": {},
   "outputs": [],
   "source": [
    "preds, targets = modelloaded.Getevaluation(dataloader)\n",
    "y_pred = np.array(preds)\n",
    "y_true = np.array(targets)"
   ]
  },
  {
   "cell_type": "code",
   "execution_count": 25,
   "metadata": {},
   "outputs": [],
   "source": [
    "# copied from John Tsang https://github.com/johntwk/Diebold-Mariano-Test/blob/master/dm_test.py\n",
    "def dm_test(actual_lst, pred1_lst, pred2_lst, h = 1, crit=\"MSE\", power = 2):\n",
    "    # Routine for checking errors\n",
    "    def error_check():\n",
    "        rt = 0\n",
    "        msg = \"\"\n",
    "        # Check if h is an integer\n",
    "        if (not isinstance(h, int)):\n",
    "            rt = -1\n",
    "            msg = \"The type of the number of steps ahead (h) is not an integer.\"\n",
    "            return (rt,msg)\n",
    "        # Check the range of h\n",
    "        if (h < 1):\n",
    "            rt = -1\n",
    "            msg = \"The number of steps ahead (h) is not large enough.\"\n",
    "            return (rt,msg)\n",
    "        len_act = len(actual_lst)\n",
    "        len_p1  = len(pred1_lst)\n",
    "        len_p2  = len(pred2_lst)\n",
    "        # Check if lengths of actual values and predicted values are equal\n",
    "        if (len_act != len_p1 or len_p1 != len_p2 or len_act != len_p2):\n",
    "            rt = -1\n",
    "            msg = \"Lengths of actual_lst, pred1_lst and pred2_lst do not match.\"\n",
    "            return (rt,msg)\n",
    "        # Check range of h\n",
    "        if (h >= len_act):\n",
    "            rt = -1\n",
    "            msg = \"The number of steps ahead is too large.\"\n",
    "            return (rt,msg)\n",
    "        # Check if criterion supported\n",
    "        if (crit != \"MSE\" and crit != \"MAPE\" and crit != \"MAD\" and crit != \"poly\"):\n",
    "            rt = -1\n",
    "            msg = \"The criterion is not supported.\"\n",
    "            return (rt,msg)  \n",
    "        # Check if every value of the input lists are numerical values\n",
    "        from re import compile as re_compile\n",
    "        comp = re_compile(\"^\\d+?\\.\\d+?$\")  \n",
    "        def compiled_regex(s):\n",
    "            \"\"\" Returns True is string is a number. \"\"\"\n",
    "            if comp.match(s) is None:\n",
    "                return s.isdigit()\n",
    "            return True\n",
    "        for actual, pred1, pred2 in zip(actual_lst, pred1_lst, pred2_lst):\n",
    "            is_actual_ok = compiled_regex(str(abs(actual)))\n",
    "            is_pred1_ok = compiled_regex(str(abs(pred1)))\n",
    "            is_pred2_ok = compiled_regex(str(abs(pred2)))\n",
    "            if (not (is_actual_ok and is_pred1_ok and is_pred2_ok)):  \n",
    "                msg = \"An element in the actual_lst, pred1_lst or pred2_lst is not numeric.\"\n",
    "                rt = -1\n",
    "                return (rt,msg)\n",
    "        return (rt,msg)\n",
    "    \n",
    "    # Error check\n",
    "    error_code = error_check()\n",
    "    # Raise error if cannot pass error check\n",
    "    if (error_code[0] == -1):\n",
    "        raise SyntaxError(error_code[1])\n",
    "        return\n",
    "    # Import libraries\n",
    "    from scipy.stats import t\n",
    "    import collections\n",
    "    import pandas as pd\n",
    "    import numpy as np\n",
    "    \n",
    "    # Initialise lists\n",
    "    e1_lst = []\n",
    "    e2_lst = []\n",
    "    d_lst  = []\n",
    "    \n",
    "    # convert every value of the lists into real values\n",
    "    actual_lst = pd.Series(actual_lst).apply(lambda x: float(x)).tolist()\n",
    "    pred1_lst = pd.Series(pred1_lst).apply(lambda x: float(x)).tolist()\n",
    "    pred2_lst = pd.Series(pred2_lst).apply(lambda x: float(x)).tolist()\n",
    "    \n",
    "    # Length of lists (as real numbers)\n",
    "    T = float(len(actual_lst))\n",
    "    \n",
    "    # construct d according to crit\n",
    "    if (crit == \"MSE\"):\n",
    "        for actual,p1,p2 in zip(actual_lst,pred1_lst,pred2_lst):\n",
    "            e1_lst.append((actual - p1)**2)\n",
    "            e2_lst.append((actual - p2)**2)\n",
    "        for e1, e2 in zip(e1_lst, e2_lst):\n",
    "            d_lst.append(e1 - e2)\n",
    "    elif (crit == \"MAD\"):\n",
    "        for actual,p1,p2 in zip(actual_lst,pred1_lst,pred2_lst):\n",
    "            e1_lst.append(abs(actual - p1))\n",
    "            e2_lst.append(abs(actual - p2))\n",
    "        for e1, e2 in zip(e1_lst, e2_lst):\n",
    "            d_lst.append(e1 - e2)\n",
    "    elif (crit == \"MAPE\"):\n",
    "        for actual,p1,p2 in zip(actual_lst,pred1_lst,pred2_lst):\n",
    "            e1_lst.append(abs((actual - p1)/actual))\n",
    "            e2_lst.append(abs((actual - p2)/actual))\n",
    "        for e1, e2 in zip(e1_lst, e2_lst):\n",
    "            d_lst.append(e1 - e2)\n",
    "    elif (crit == \"poly\"):\n",
    "        for actual,p1,p2 in zip(actual_lst,pred1_lst,pred2_lst):\n",
    "            e1_lst.append(((actual - p1))**(power))\n",
    "            e2_lst.append(((actual - p2))**(power))\n",
    "        for e1, e2 in zip(e1_lst, e2_lst):\n",
    "            d_lst.append(e1 - e2)    \n",
    "    \n",
    "    # Mean of d        \n",
    "    mean_d = pd.Series(d_lst).mean()\n",
    "    \n",
    "    # Find autocovariance and construct DM test statistics\n",
    "    def autocovariance(Xi, N, k, Xs):\n",
    "        autoCov = 0\n",
    "        T = float(N)\n",
    "        for i in np.arange(0, N-k):\n",
    "              autoCov += ((Xi[i+k])-Xs)*(Xi[i]-Xs)\n",
    "        return (1/(T))*autoCov\n",
    "    gamma = []\n",
    "    for lag in range(0,h):\n",
    "        gamma.append(autocovariance(d_lst,len(d_lst),lag,mean_d)) # 0, 1, 2\n",
    "    V_d = (gamma[0] + 2*sum(gamma[1:]))/T\n",
    "    DM_stat=V_d**(-0.5)*mean_d\n",
    "    harvey_adj=((T+1-2*h+h*(h-1)/T)/T)**(0.5)\n",
    "    DM_stat = harvey_adj*DM_stat\n",
    "    # Find p-value\n",
    "    p_value = 2*t.cdf(-abs(DM_stat), df = T - 1)\n",
    "    \n",
    "    # Construct named tuple for return\n",
    "    dm_return = collections.namedtuple('dm_return', 'DM p_value')\n",
    "    \n",
    "    rt = dm_return(DM = DM_stat, p_value = p_value)\n",
    "    \n",
    "    return rt"
   ]
  },
  {
   "cell_type": "code",
   "execution_count": 26,
   "metadata": {},
   "outputs": [
    {
     "name": "stdout",
     "output_type": "stream",
     "text": [
      "dm_return(DM=0.7156156473441304, p_value=0.4759131435790399)\n",
      "dm_return(DM=0.8149537766612477, p_value=0.4170549576990228)\n",
      "dm_return(DM=0.6542582453666764, p_value=0.5144624594094003)\n"
     ]
    }
   ],
   "source": [
    "import random\n",
    "\n",
    "random.seed(123)\n",
    "actual_lst = range(0,100)\n",
    "pred1_lst = range(0,100)\n",
    "pred2_lst = range(0,100)\n",
    "\n",
    "actual_lst = random.sample(actual_lst,100)\n",
    "pred1_lst = random.sample(pred1_lst,100)\n",
    "pred2_lst = random.sample(pred2_lst,100)\n",
    "\n",
    "rt = dm_test(actual_lst,pred1_lst,pred2_lst,h = 1, crit=\"MAD\")\n",
    "print(rt)\n",
    "rt = dm_test(actual_lst,pred1_lst,pred2_lst,h = 1, crit=\"MSE\")\n",
    "print(rt)\n",
    "rt = dm_test(actual_lst,pred1_lst,pred2_lst,h = 1, crit=\"poly\", power=4)\n",
    "print(rt)"
   ]
  },
  {
   "cell_type": "code",
   "execution_count": 38,
   "metadata": {},
   "outputs": [
    {
     "data": {
      "text/plain": [
       "(0.5669781931464174,\n",
       " 0.9003115264797508,\n",
       " 0.5482866043613707,\n",
       " 0.5536242854785959,\n",
       " 0.000769858056096293,\n",
       " 0.0004961334846239418)"
      ]
     },
     "execution_count": 38,
     "metadata": {},
     "output_type": "execute_result"
    }
   ],
   "source": [
    "ProbY, ProbY_hat, ProbZ, Prob_star, V, W"
   ]
  },
  {
   "cell_type": "code",
   "execution_count": 39,
   "metadata": {},
   "outputs": [
    {
     "data": {
      "text/plain": [
       "-0.3226233024430973"
      ]
     },
     "execution_count": 39,
     "metadata": {},
     "output_type": "execute_result"
    }
   ],
   "source": [
    "PT"
   ]
  },
  {
   "cell_type": "code",
   "execution_count": 41,
   "metadata": {},
   "outputs": [
    {
     "data": {
      "text/plain": [
       "(-0.009629852138459682, 0.00030441582202911377)"
      ]
     },
     "execution_count": 41,
     "metadata": {},
     "output_type": "execute_result"
    }
   ],
   "source": [
    "y_true[0], y_pred[0]"
   ]
  },
  {
   "cell_type": "code",
   "execution_count": 50,
   "metadata": {},
   "outputs": [
    {
     "data": {
      "text/plain": [
       "(0.0, 0.0)"
      ]
     },
     "execution_count": 50,
     "metadata": {},
     "output_type": "execute_result"
    }
   ],
   "source": [
    "Y[32], Y_hat[32]"
   ]
  },
  {
   "cell_type": "code",
   "execution_count": 51,
   "metadata": {},
   "outputs": [
    {
     "data": {
      "text/plain": [
       "1.0"
      ]
     },
     "execution_count": 51,
     "metadata": {},
     "output_type": "execute_result"
    }
   ],
   "source": [
    "Z[32]"
   ]
  },
  {
   "cell_type": "code",
   "execution_count": 55,
   "metadata": {},
   "outputs": [
    {
     "data": {
      "text/plain": [
       "(-7.456541061401367e-05, -0.006643662229180336)"
      ]
     },
     "execution_count": 55,
     "metadata": {},
     "output_type": "execute_result"
    }
   ],
   "source": [
    "y_pred[32], y_true[32]"
   ]
  },
  {
   "cell_type": "code",
   "execution_count": 60,
   "metadata": {},
   "outputs": [],
   "source": [
    "n = len(y_true)\n",
    "\n",
    "dy = y_true.copy()\n",
    "dy[dy < 0] = 0\n",
    "dy[dy > 0] = 1\n",
    "\n",
    "py = np.mean(dy)\n",
    "qy = (py*(1-py))/n\n",
    "\n",
    "dz = y_pred.copy()\n",
    "dz[dz < 0] = 0\n",
    "dz[dz > 1] = 1\n",
    "\n",
    "pz = np.mean(dz)\n",
    "qz = (pz*(1-pz))/n\n",
    "\n",
    "p = py*pz + (1-py)*(1-pz)\n",
    "\n",
    "v = (p*(1-p))/n\n",
    "w = ((2*py-1)**2)*qz + ((2*pz-1)**2)*qy + 4*qy*qz\n",
    "\n",
    "dyz = y_true*y_pred.copy()\n",
    "dyz[dyz < 0] = 0\n",
    "dyz[dyz > 0] = 1\n",
    "pyz = np.mean(dyz)\n",
    "\n",
    "PT = (pyz - p)/(v-w)**0.5"
   ]
  },
  {
   "cell_type": "code",
   "execution_count": 61,
   "metadata": {},
   "outputs": [
    {
     "data": {
      "text/plain": [
       "101.4727597745054"
      ]
     },
     "execution_count": 61,
     "metadata": {},
     "output_type": "execute_result"
    }
   ],
   "source": [
    "PT"
   ]
  },
  {
   "cell_type": "code",
   "execution_count": 6,
   "metadata": {},
   "outputs": [
    {
     "data": {
      "text/plain": [
       "101.4727597745054"
      ]
     },
     "execution_count": 6,
     "metadata": {},
     "output_type": "execute_result"
    }
   ],
   "source": [
    "modelloaded.testPT"
   ]
  },
  {
   "cell_type": "code",
   "execution_count": null,
   "metadata": {},
   "outputs": [],
   "source": []
  }
 ],
 "metadata": {
  "kernelspec": {
   "display_name": "Python 3",
   "language": "python",
   "name": "python3"
  },
  "language_info": {
   "codemirror_mode": {
    "name": "ipython",
    "version": 3
   },
   "file_extension": ".py",
   "mimetype": "text/x-python",
   "name": "python",
   "nbconvert_exporter": "python",
   "pygments_lexer": "ipython3",
   "version": "3.7.3"
  }
 },
 "nbformat": 4,
 "nbformat_minor": 4
}
