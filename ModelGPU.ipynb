{
  "nbformat": 4,
  "nbformat_minor": 0,
  "metadata": {
    "kernelspec": {
      "display_name": "Python 3",
      "language": "python",
      "name": "python3"
    },
    "language_info": {
      "codemirror_mode": {
        "name": "ipython",
        "version": 3
      },
      "file_extension": ".py",
      "mimetype": "text/x-python",
      "name": "python",
      "nbconvert_exporter": "python",
      "pygments_lexer": "ipython3",
      "version": "3.7.1"
    },
    "colab": {
      "name": "ModelGPU.ipynb",
      "provenance": [],
      "collapsed_sections": [],
      "toc_visible": true
    },
    "accelerator": "GPU",
    "widgets": {
      "application/vnd.jupyter.widget-state+json": {
        "2086f8b457304b2ab9a787bbf4660699": {
          "model_module": "@jupyter-widgets/controls",
          "model_name": "HBoxModel",
          "state": {
            "_view_name": "HBoxView",
            "_dom_classes": [],
            "_model_name": "HBoxModel",
            "_view_module": "@jupyter-widgets/controls",
            "_model_module_version": "1.5.0",
            "_view_count": null,
            "_view_module_version": "1.5.0",
            "box_style": "",
            "layout": "IPY_MODEL_f42b72b3cbf14c26a5e5a225b472fc12",
            "_model_module": "@jupyter-widgets/controls",
            "children": [
              "IPY_MODEL_cdaa8d0ec6244e8cb9379ad4664f69dc",
              "IPY_MODEL_e1507f7ec6b943e5bedeafacfc989374"
            ]
          }
        },
        "f42b72b3cbf14c26a5e5a225b472fc12": {
          "model_module": "@jupyter-widgets/base",
          "model_name": "LayoutModel",
          "state": {
            "_view_name": "LayoutView",
            "grid_template_rows": null,
            "right": null,
            "justify_content": null,
            "_view_module": "@jupyter-widgets/base",
            "overflow": null,
            "_model_module_version": "1.2.0",
            "_view_count": null,
            "flex_flow": null,
            "width": null,
            "min_width": null,
            "border": null,
            "align_items": null,
            "bottom": null,
            "_model_module": "@jupyter-widgets/base",
            "top": null,
            "grid_column": null,
            "overflow_y": null,
            "overflow_x": null,
            "grid_auto_flow": null,
            "grid_area": null,
            "grid_template_columns": null,
            "flex": null,
            "_model_name": "LayoutModel",
            "justify_items": null,
            "grid_row": null,
            "max_height": null,
            "align_content": null,
            "visibility": null,
            "align_self": null,
            "height": null,
            "min_height": null,
            "padding": null,
            "grid_auto_rows": null,
            "grid_gap": null,
            "max_width": null,
            "order": null,
            "_view_module_version": "1.2.0",
            "grid_template_areas": null,
            "object_position": null,
            "object_fit": null,
            "grid_auto_columns": null,
            "margin": null,
            "display": null,
            "left": null
          }
        },
        "cdaa8d0ec6244e8cb9379ad4664f69dc": {
          "model_module": "@jupyter-widgets/controls",
          "model_name": "FloatProgressModel",
          "state": {
            "_view_name": "ProgressView",
            "style": "IPY_MODEL_b4dd226ea3ec49bf80f3d6a0077b9cbd",
            "_dom_classes": [],
            "description": "100%",
            "_model_name": "FloatProgressModel",
            "bar_style": "success",
            "max": 10000,
            "_view_module": "@jupyter-widgets/controls",
            "_model_module_version": "1.5.0",
            "value": 10000,
            "_view_count": null,
            "_view_module_version": "1.5.0",
            "orientation": "horizontal",
            "min": 0,
            "description_tooltip": null,
            "_model_module": "@jupyter-widgets/controls",
            "layout": "IPY_MODEL_2449337726564a3795651c4e96e1f5a8"
          }
        },
        "e1507f7ec6b943e5bedeafacfc989374": {
          "model_module": "@jupyter-widgets/controls",
          "model_name": "HTMLModel",
          "state": {
            "_view_name": "HTMLView",
            "style": "IPY_MODEL_7bbdec487fed484ba2b8b75222120c7e",
            "_dom_classes": [],
            "description": "",
            "_model_name": "HTMLModel",
            "placeholder": "​",
            "_view_module": "@jupyter-widgets/controls",
            "_model_module_version": "1.5.0",
            "value": " 10000/10000 [03:36&lt;00:00, 46.18it/s]",
            "_view_count": null,
            "_view_module_version": "1.5.0",
            "description_tooltip": null,
            "_model_module": "@jupyter-widgets/controls",
            "layout": "IPY_MODEL_917a3a2c9d1d46bd908a2d5c3b92d2f9"
          }
        },
        "b4dd226ea3ec49bf80f3d6a0077b9cbd": {
          "model_module": "@jupyter-widgets/controls",
          "model_name": "ProgressStyleModel",
          "state": {
            "_view_name": "StyleView",
            "_model_name": "ProgressStyleModel",
            "description_width": "initial",
            "_view_module": "@jupyter-widgets/base",
            "_model_module_version": "1.5.0",
            "_view_count": null,
            "_view_module_version": "1.2.0",
            "bar_color": null,
            "_model_module": "@jupyter-widgets/controls"
          }
        },
        "2449337726564a3795651c4e96e1f5a8": {
          "model_module": "@jupyter-widgets/base",
          "model_name": "LayoutModel",
          "state": {
            "_view_name": "LayoutView",
            "grid_template_rows": null,
            "right": null,
            "justify_content": null,
            "_view_module": "@jupyter-widgets/base",
            "overflow": null,
            "_model_module_version": "1.2.0",
            "_view_count": null,
            "flex_flow": null,
            "width": null,
            "min_width": null,
            "border": null,
            "align_items": null,
            "bottom": null,
            "_model_module": "@jupyter-widgets/base",
            "top": null,
            "grid_column": null,
            "overflow_y": null,
            "overflow_x": null,
            "grid_auto_flow": null,
            "grid_area": null,
            "grid_template_columns": null,
            "flex": null,
            "_model_name": "LayoutModel",
            "justify_items": null,
            "grid_row": null,
            "max_height": null,
            "align_content": null,
            "visibility": null,
            "align_self": null,
            "height": null,
            "min_height": null,
            "padding": null,
            "grid_auto_rows": null,
            "grid_gap": null,
            "max_width": null,
            "order": null,
            "_view_module_version": "1.2.0",
            "grid_template_areas": null,
            "object_position": null,
            "object_fit": null,
            "grid_auto_columns": null,
            "margin": null,
            "display": null,
            "left": null
          }
        },
        "7bbdec487fed484ba2b8b75222120c7e": {
          "model_module": "@jupyter-widgets/controls",
          "model_name": "DescriptionStyleModel",
          "state": {
            "_view_name": "StyleView",
            "_model_name": "DescriptionStyleModel",
            "description_width": "",
            "_view_module": "@jupyter-widgets/base",
            "_model_module_version": "1.5.0",
            "_view_count": null,
            "_view_module_version": "1.2.0",
            "_model_module": "@jupyter-widgets/controls"
          }
        },
        "917a3a2c9d1d46bd908a2d5c3b92d2f9": {
          "model_module": "@jupyter-widgets/base",
          "model_name": "LayoutModel",
          "state": {
            "_view_name": "LayoutView",
            "grid_template_rows": null,
            "right": null,
            "justify_content": null,
            "_view_module": "@jupyter-widgets/base",
            "overflow": null,
            "_model_module_version": "1.2.0",
            "_view_count": null,
            "flex_flow": null,
            "width": null,
            "min_width": null,
            "border": null,
            "align_items": null,
            "bottom": null,
            "_model_module": "@jupyter-widgets/base",
            "top": null,
            "grid_column": null,
            "overflow_y": null,
            "overflow_x": null,
            "grid_auto_flow": null,
            "grid_area": null,
            "grid_template_columns": null,
            "flex": null,
            "_model_name": "LayoutModel",
            "justify_items": null,
            "grid_row": null,
            "max_height": null,
            "align_content": null,
            "visibility": null,
            "align_self": null,
            "height": null,
            "min_height": null,
            "padding": null,
            "grid_auto_rows": null,
            "grid_gap": null,
            "max_width": null,
            "order": null,
            "_view_module_version": "1.2.0",
            "grid_template_areas": null,
            "object_position": null,
            "object_fit": null,
            "grid_auto_columns": null,
            "margin": null,
            "display": null,
            "left": null
          }
        }
      }
    }
  },
  "cells": [
    {
      "cell_type": "markdown",
      "metadata": {
        "id": "QlGXZ1lm_rfS",
        "colab_type": "text"
      },
      "source": [
        "## Modelling and Training Notebook"
      ]
    },
    {
      "cell_type": "markdown",
      "metadata": {
        "id": "o7I7FtwU_rfU",
        "colab_type": "text"
      },
      "source": [
        "### Imports"
      ]
    },
    {
      "cell_type": "code",
      "metadata": {
        "id": "4qU8Abnv_rfX",
        "colab_type": "code",
        "colab": {}
      },
      "source": [
        "import pickle\n",
        "import os\n",
        "import numpy as np\n",
        "import pandas as pd\n",
        "from tqdm.notebook import tqdm as tq\n",
        "import torch\n",
        "import torch.nn.functional as F\n",
        "from sklearn.metrics import mean_absolute_error, mean_squared_error\n",
        "from sklearn.utils import check_array\n",
        "\n",
        "import config as cfg"
      ],
      "execution_count": 0,
      "outputs": []
    },
    {
      "cell_type": "code",
      "metadata": {
        "id": "ASz5HfnDAH5a",
        "colab_type": "code",
        "colab": {}
      },
      "source": [
        "device = torch.device(\"cuda:0\" if torch.cuda.is_available() else \"cpu\")"
      ],
      "execution_count": 0,
      "outputs": []
    },
    {
      "cell_type": "code",
      "metadata": {
        "id": "uJRPACoK_rfn",
        "colab_type": "code",
        "colab": {}
      },
      "source": [
        "def load_ds(ds_filename):\n",
        "    with open(ds_filename, \"rb\") as f:\n",
        "        return pickle.load(f)"
      ],
      "execution_count": 0,
      "outputs": []
    },
    {
      "cell_type": "markdown",
      "metadata": {
        "id": "jM7JsidD_rfw",
        "colab_type": "text"
      },
      "source": [
        "Custom metrics function for MAPE and Theil-U"
      ]
    },
    {
      "cell_type": "code",
      "metadata": {
        "id": "SEu7hFWb_rfz",
        "colab_type": "code",
        "colab": {}
      },
      "source": [
        "def mean_absolute_percentage_error(y_true, y_pred):\n",
        "    \n",
        "    return np.mean(np.abs(np.array(y_true) - np.array(y_pred)) / np.array(y_true))\n",
        "\n",
        "def theil_u(y_true, y_pred):\n",
        "    \n",
        "    den = np.sqrt(np.mean(np.array(y_true)**2)) + np.sqrt(np.mean(np.array(y_pred)**2)) \n",
        "    \n",
        "    return mean_squared_error(y_true, y_pred) / den"
      ],
      "execution_count": 0,
      "outputs": []
    },
    {
      "cell_type": "markdown",
      "metadata": {
        "id": "ZnzLhjWc_rf6",
        "colab_type": "text"
      },
      "source": [
        "Transform pandas dataframe into dataloader for training"
      ]
    },
    {
      "cell_type": "code",
      "metadata": {
        "id": "tiy8SHLw_rf6",
        "colab_type": "code",
        "colab": {}
      },
      "source": [
        "def df_to_dataloader(ds, targetcol_name=\"Target\"):\n",
        "    tmpdf_train = ds['train'].copy()\n",
        "    tmpdf_val = ds['val'].copy()\n",
        "    tmpdf_test = ds['test'].copy()\n",
        "    target_train = tmpdf_train[targetcol_name]\n",
        "    target_val = tmpdf_val[targetcol_name]\n",
        "    target_test = tmpdf_test[targetcol_name]\n",
        "    del tmpdf_train[targetcol_name]\n",
        "    del tmpdf_val[targetcol_name]\n",
        "    del tmpdf_test[targetcol_name]\n",
        "    del tmpdf_train[\"Date\"]\n",
        "    del tmpdf_val[\"Date\"]\n",
        "    del tmpdf_test[\"Date\"]\n",
        "\n",
        "    mu, sigma = tmpdf_train['Close'].mean(), tmpdf_train[\"Close\"].std()\n",
        "\n",
        "    target_train = (target_train-mu)/sigma\n",
        "    target_val = (target_val-mu)/sigma\n",
        "    target_test = (target_test-mu)/sigma\n",
        "\n",
        "    tmpdf_train=(tmpdf_train-mu)/sigma\n",
        "    tmpdf_val=(tmpdf_val-mu)/sigma\n",
        "    tmpdf_test=(tmpdf_test-mu)/sigma\n",
        "    \n",
        "    print(tmpdf_train.describe())\n",
        "\n",
        "    trainds = torch.utils.data.TensorDataset(torch.Tensor(np.array(tmpdf_train)), torch.Tensor(np.array(target_train)))\n",
        "    trainloader = torch.utils.data.DataLoader(trainds, batch_size=50, shuffle=False)\n",
        "    valds = torch.utils.data.TensorDataset(torch.Tensor(np.array(tmpdf_val)), torch.Tensor(np.array(target_val)))\n",
        "    valloader = torch.utils.data.DataLoader(valds, batch_size=20, shuffle=False)\n",
        "    testds = torch.utils.data.TensorDataset(torch.Tensor(np.array(tmpdf_test)), torch.Tensor(np.array(target_test)))\n",
        "    testloader = torch.utils.data.DataLoader(testds, batch_size=20, shuffle=False)\n",
        "    return trainloader, valloader, testloader"
      ],
      "execution_count": 0,
      "outputs": []
    },
    {
      "cell_type": "code",
      "metadata": {
        "id": "xO6M2pUY_rgC",
        "colab_type": "code",
        "colab": {}
      },
      "source": [
        "SPY_ds = load_ds(\"SPY_ds.pkl\")"
      ],
      "execution_count": 0,
      "outputs": []
    },
    {
      "cell_type": "code",
      "metadata": {
        "id": "153Y0T-wKpmd",
        "colab_type": "code",
        "colab": {
          "base_uri": "https://localhost:8080/",
          "height": 419
        },
        "outputId": "b13f6ef5-37cc-4f8b-d6cb-ecc614620f39"
      },
      "source": [
        "SPY_ds[\"MLP\"][\"train\"]"
      ],
      "execution_count": 182,
      "outputs": [
        {
          "output_type": "execute_result",
          "data": {
            "text/html": [
              "<div>\n",
              "<style scoped>\n",
              "    .dataframe tbody tr th:only-of-type {\n",
              "        vertical-align: middle;\n",
              "    }\n",
              "\n",
              "    .dataframe tbody tr th {\n",
              "        vertical-align: top;\n",
              "    }\n",
              "\n",
              "    .dataframe thead th {\n",
              "        text-align: right;\n",
              "    }\n",
              "</style>\n",
              "<table border=\"1\" class=\"dataframe\">\n",
              "  <thead>\n",
              "    <tr style=\"text-align: right;\">\n",
              "      <th></th>\n",
              "      <th>Date</th>\n",
              "      <th>Close</th>\n",
              "      <th>Close_Lag1</th>\n",
              "      <th>Close_Lag3</th>\n",
              "      <th>Close_Lag5</th>\n",
              "      <th>Close_Lag7</th>\n",
              "      <th>Close_Lag8</th>\n",
              "      <th>Close_Lag9</th>\n",
              "      <th>Close_Lag12</th>\n",
              "      <th>Target</th>\n",
              "    </tr>\n",
              "  </thead>\n",
              "  <tbody>\n",
              "    <tr>\n",
              "      <th>0</th>\n",
              "      <td>2011-01-03</td>\n",
              "      <td>127.050003</td>\n",
              "      <td>125.750000</td>\n",
              "      <td>125.919998</td>\n",
              "      <td>125.650002</td>\n",
              "      <td>125.779999</td>\n",
              "      <td>125.389999</td>\n",
              "      <td>124.599998</td>\n",
              "      <td>124.099998</td>\n",
              "      <td>126.980003</td>\n",
              "    </tr>\n",
              "    <tr>\n",
              "      <th>1</th>\n",
              "      <td>2011-01-04</td>\n",
              "      <td>126.980003</td>\n",
              "      <td>127.050003</td>\n",
              "      <td>125.720001</td>\n",
              "      <td>125.830002</td>\n",
              "      <td>125.599998</td>\n",
              "      <td>125.779999</td>\n",
              "      <td>125.389999</td>\n",
              "      <td>124.820000</td>\n",
              "      <td>127.639999</td>\n",
              "    </tr>\n",
              "    <tr>\n",
              "      <th>2</th>\n",
              "      <td>2011-01-05</td>\n",
              "      <td>127.639999</td>\n",
              "      <td>126.980003</td>\n",
              "      <td>125.750000</td>\n",
              "      <td>125.919998</td>\n",
              "      <td>125.650002</td>\n",
              "      <td>125.599998</td>\n",
              "      <td>125.779999</td>\n",
              "      <td>124.300003</td>\n",
              "      <td>127.389999</td>\n",
              "    </tr>\n",
              "    <tr>\n",
              "      <th>3</th>\n",
              "      <td>2011-01-06</td>\n",
              "      <td>127.389999</td>\n",
              "      <td>127.639999</td>\n",
              "      <td>127.050003</td>\n",
              "      <td>125.720001</td>\n",
              "      <td>125.830002</td>\n",
              "      <td>125.650002</td>\n",
              "      <td>125.599998</td>\n",
              "      <td>124.599998</td>\n",
              "      <td>127.139999</td>\n",
              "    </tr>\n",
              "    <tr>\n",
              "      <th>4</th>\n",
              "      <td>2011-01-07</td>\n",
              "      <td>127.139999</td>\n",
              "      <td>127.389999</td>\n",
              "      <td>126.980003</td>\n",
              "      <td>125.750000</td>\n",
              "      <td>125.919998</td>\n",
              "      <td>125.830002</td>\n",
              "      <td>125.650002</td>\n",
              "      <td>125.389999</td>\n",
              "      <td>126.980003</td>\n",
              "    </tr>\n",
              "    <tr>\n",
              "      <th>...</th>\n",
              "      <td>...</td>\n",
              "      <td>...</td>\n",
              "      <td>...</td>\n",
              "      <td>...</td>\n",
              "      <td>...</td>\n",
              "      <td>...</td>\n",
              "      <td>...</td>\n",
              "      <td>...</td>\n",
              "      <td>...</td>\n",
              "      <td>...</td>\n",
              "    </tr>\n",
              "    <tr>\n",
              "      <th>497</th>\n",
              "      <td>2012-12-24</td>\n",
              "      <td>142.350006</td>\n",
              "      <td>142.789993</td>\n",
              "      <td>144.289993</td>\n",
              "      <td>143.770004</td>\n",
              "      <td>142.630005</td>\n",
              "      <td>143.509995</td>\n",
              "      <td>143.440002</td>\n",
              "      <td>141.979996</td>\n",
              "      <td>141.750000</td>\n",
              "    </tr>\n",
              "    <tr>\n",
              "      <th>498</th>\n",
              "      <td>2012-12-26</td>\n",
              "      <td>141.750000</td>\n",
              "      <td>142.350006</td>\n",
              "      <td>145.119995</td>\n",
              "      <td>145.369995</td>\n",
              "      <td>142.100006</td>\n",
              "      <td>142.630005</td>\n",
              "      <td>143.509995</td>\n",
              "      <td>142.410004</td>\n",
              "      <td>141.559998</td>\n",
              "    </tr>\n",
              "    <tr>\n",
              "      <th>499</th>\n",
              "      <td>2012-12-27</td>\n",
              "      <td>141.559998</td>\n",
              "      <td>141.750000</td>\n",
              "      <td>142.789993</td>\n",
              "      <td>144.289993</td>\n",
              "      <td>143.770004</td>\n",
              "      <td>142.100006</td>\n",
              "      <td>142.630005</td>\n",
              "      <td>142.470001</td>\n",
              "      <td>140.029999</td>\n",
              "    </tr>\n",
              "    <tr>\n",
              "      <th>500</th>\n",
              "      <td>2012-12-28</td>\n",
              "      <td>140.029999</td>\n",
              "      <td>141.559998</td>\n",
              "      <td>142.350006</td>\n",
              "      <td>145.119995</td>\n",
              "      <td>145.369995</td>\n",
              "      <td>143.770004</td>\n",
              "      <td>142.100006</td>\n",
              "      <td>143.440002</td>\n",
              "      <td>142.410004</td>\n",
              "    </tr>\n",
              "    <tr>\n",
              "      <th>501</th>\n",
              "      <td>2012-12-31</td>\n",
              "      <td>142.410004</td>\n",
              "      <td>140.029999</td>\n",
              "      <td>141.750000</td>\n",
              "      <td>142.789993</td>\n",
              "      <td>144.289993</td>\n",
              "      <td>145.369995</td>\n",
              "      <td>143.770004</td>\n",
              "      <td>143.509995</td>\n",
              "      <td>146.059998</td>\n",
              "    </tr>\n",
              "  </tbody>\n",
              "</table>\n",
              "<p>502 rows × 10 columns</p>\n",
              "</div>"
            ],
            "text/plain": [
              "           Date       Close  Close_Lag1  ...  Close_Lag9  Close_Lag12      Target\n",
              "0    2011-01-03  127.050003  125.750000  ...  124.599998   124.099998  126.980003\n",
              "1    2011-01-04  126.980003  127.050003  ...  125.389999   124.820000  127.639999\n",
              "2    2011-01-05  127.639999  126.980003  ...  125.779999   124.300003  127.389999\n",
              "3    2011-01-06  127.389999  127.639999  ...  125.599998   124.599998  127.139999\n",
              "4    2011-01-07  127.139999  127.389999  ...  125.650002   125.389999  126.980003\n",
              "..          ...         ...         ...  ...         ...          ...         ...\n",
              "497  2012-12-24  142.350006  142.789993  ...  143.440002   141.979996  141.750000\n",
              "498  2012-12-26  141.750000  142.350006  ...  143.509995   142.410004  141.559998\n",
              "499  2012-12-27  141.559998  141.750000  ...  142.630005   142.470001  140.029999\n",
              "500  2012-12-28  140.029999  141.559998  ...  142.100006   143.440002  142.410004\n",
              "501  2012-12-31  142.410004  140.029999  ...  143.770004   143.509995  146.059998\n",
              "\n",
              "[502 rows x 10 columns]"
            ]
          },
          "metadata": {
            "tags": []
          },
          "execution_count": 182
        }
      ]
    },
    {
      "cell_type": "code",
      "metadata": {
        "id": "xMiuqu_G_rgG",
        "colab_type": "code",
        "colab": {
          "base_uri": "https://localhost:8080/",
          "height": 204
        },
        "outputId": "acb18cfd-7d4e-4f4d-924f-648f018d9959"
      },
      "source": [
        "trainloader_SPY_MLP, valloader_SPY_MLP, testloader_SPY_MLP = df_to_dataloader(SPY_ds[\"MLP\"])"
      ],
      "execution_count": 183,
      "outputs": [
        {
          "output_type": "stream",
          "text": [
            "              Close  Close_Lag1  ...  Close_Lag9  Close_Lag12\n",
            "count  5.020000e+02  502.000000  ...  502.000000   502.000000\n",
            "mean  -9.030846e-15   -0.004218  ...   -0.039355    -0.053352\n",
            "std    1.000000e+00    0.999151  ...    0.990273     0.987608\n",
            "min   -2.870960e+00   -2.870960  ...   -2.870960    -2.870960\n",
            "25%   -5.792061e-01   -0.587469  ...   -0.617975    -0.644349\n",
            "50%    6.840786e-02    0.062052  ...    0.018835     0.007397\n",
            "75%    7.296865e-01    0.723013  ...    0.656282     0.641982\n",
            "max    1.871433e+00    1.871433  ...    1.871433     1.871433\n",
            "\n",
            "[8 rows x 8 columns]\n"
          ],
          "name": "stdout"
        }
      ]
    },
    {
      "cell_type": "code",
      "metadata": {
        "id": "jAsxTk9J_rgJ",
        "colab_type": "code",
        "colab": {}
      },
      "source": [
        "class MLP(torch.nn.Module):\n",
        "    def __init__(self, input_size, hidden_size, output_size):\n",
        "        super(MLP, self).__init__()\n",
        "        self.input_size = input_size\n",
        "        self.hidden_size = hidden_size\n",
        "        self.output_size = output_size\n",
        "        \n",
        "        self.hidden = torch.nn.Linear(self.input_size, self.hidden_size)\n",
        "        self.out = torch.nn.Linear(self.hidden_size, self.output_size)\n",
        "    \n",
        "    def forward(self, x):\n",
        "        x = torch.sigmoid(self.hidden(x))\n",
        "        x = self.out(x)\n",
        "        \n",
        "        return x"
      ],
      "execution_count": 0,
      "outputs": []
    },
    {
      "cell_type": "code",
      "metadata": {
        "id": "Uz_Y9RRV_rgM",
        "colab_type": "code",
        "colab": {}
      },
      "source": [
        "def init_normal(m):\n",
        "    if type(m) == torch.nn.Linear:\n",
        "        torch.nn.init.normal_(m.weight, mean=0, std=1)\n",
        "\"\"\"\n",
        "SPY_MLP = MLP(cfg.train_parameters['SPY']['MLP']['input_size']+1,\n",
        "              cfg.train_parameters['SPY']['MLP']['hidden_size'],\n",
        "              cfg.train_parameters['SPY']['MLP']['output_size']\n",
        "             )\n",
        "\"\"\"\n",
        "\n",
        "SPY_MLP = torch.nn.Sequential(\n",
        "    torch.nn.Linear(cfg.train_parameters['SPY']['MLP']['input_size']+1,\n",
        "                    cfg.train_parameters['SPY']['MLP']['hidden_size']),\n",
        "    torch.nn.ReLU(),\n",
        "    torch.nn.Linear(cfg.train_parameters['SPY']['MLP']['hidden_size'],\n",
        "                    cfg.train_parameters['SPY']['MLP']['output_size'])\n",
        ")\n",
        "SPY_MLP.apply(init_normal)\n",
        "SPY_MLP.to(device)\n",
        "\n",
        "if cfg.train_parameters[\"SPY\"][\"MLP\"][\"optim\"] == \"SGD\":\n",
        "    SPY_MLP_optimizer = torch.optim.SGD(SPY_MLP.parameters(),\n",
        "                                        lr = cfg.train_parameters[\"SPY\"][\"MLP\"][\"lr\"],\n",
        "                                        momentum = cfg.train_parameters[\"SPY\"][\"MLP\"][\"momentum\"]\n",
        "                                       )\n",
        "else:\n",
        "    SPY_MLP_optimizer = torch.optim.Adam(SPY_MLP.parameters(),\n",
        "                                        lr = cfg.train_parameters[\"SPY\"][\"MLP\"][\"lr\"],\n",
        "                                        momentum = cfg.train_parameters[\"SPY\"][\"MLP\"][\"momentum\"]\n",
        "                                        )\n",
        "\n",
        "loss_fn = torch.nn.MSELoss()"
      ],
      "execution_count": 0,
      "outputs": []
    },
    {
      "cell_type": "code",
      "metadata": {
        "id": "ykpKB-AeAgiO",
        "colab_type": "code",
        "colab": {}
      },
      "source": [
        "from tqdm.notebook import tqdm as tq"
      ],
      "execution_count": 0,
      "outputs": []
    },
    {
      "cell_type": "code",
      "metadata": {
        "id": "vTECYHKo_rgP",
        "colab_type": "code",
        "colab": {
          "base_uri": "https://localhost:8080/",
          "height": 341,
          "referenced_widgets": [
            "2086f8b457304b2ab9a787bbf4660699",
            "f42b72b3cbf14c26a5e5a225b472fc12",
            "cdaa8d0ec6244e8cb9379ad4664f69dc",
            "e1507f7ec6b943e5bedeafacfc989374",
            "b4dd226ea3ec49bf80f3d6a0077b9cbd",
            "2449337726564a3795651c4e96e1f5a8",
            "7bbdec487fed484ba2b8b75222120c7e",
            "917a3a2c9d1d46bd908a2d5c3b92d2f9"
          ]
        },
        "outputId": "4e834255-8f5b-4244-f0ce-19f80f32fd1f"
      },
      "source": [
        "train_losses, val_losses = [], []\n",
        "\n",
        "for epoch in tq(range(cfg.train_parameters[\"SPY\"][\"MLP\"][\"epochs\"]), desc=\"Training\"):\n",
        "    SPY_MLP.train()\n",
        "    \n",
        "    train_loss, val_loss = [], []\n",
        "    \n",
        "    for features, target in trainloader_SPY_MLP:\n",
        "        SPY_MLP_optimizer.zero_grad()\n",
        "        \n",
        "        outputs = SPY_MLP(features.to(device))\n",
        "        loss = loss_fn(outputs, target.view(-1,1).to(device))\n",
        "        loss.backward()\n",
        "        SPY_MLP_optimizer.step()\n",
        "        \n",
        "        train_loss.append(loss.item())\n",
        "    \n",
        "    SPY_MLP.eval()\n",
        "    with torch.no_grad():\n",
        "        for features, target in valloader_SPY_MLP:\n",
        "            outputs = SPY_MLP(features.to(device))\n",
        "            loss = loss_fn(outputs, target.to(device))\n",
        "            \n",
        "            val_loss.append(loss.item())\n",
        "    \n",
        "    train_losses.append(np.mean(train_loss))\n",
        "    val_losses.append(np.mean(val_loss))\n",
        "    \n",
        "    if (epoch+1) % 1000 == 0 or epoch+1 == 1:\n",
        "        print(\"Epoch {}/{} - Train Loss : {:.4f} / Val Loss : {:.4f}\".format(epoch + 1,\n",
        "                                                                             cfg.train_parameters[\"SPY\"][\"MLP\"][\"epochs\"],\n",
        "                                                                             np.mean(train_loss),\n",
        "                                                                             np.mean(val_loss)))"
      ],
      "execution_count": 225,
      "outputs": [
        {
          "output_type": "display_data",
          "data": {
            "application/vnd.jupyter.widget-view+json": {
              "model_id": "2086f8b457304b2ab9a787bbf4660699",
              "version_minor": 0,
              "version_major": 2
            },
            "text/plain": [
              "HBox(children=(FloatProgress(value=0.0, max=10000.0), HTML(value='')))"
            ]
          },
          "metadata": {
            "tags": []
          }
        },
        {
          "output_type": "stream",
          "text": [
            "/usr/local/lib/python3.6/dist-packages/torch/nn/modules/loss.py:432: UserWarning: Using a target size (torch.Size([20])) that is different to the input size (torch.Size([20, 1])). This will likely lead to incorrect results due to broadcasting. Please ensure they have the same size.\n",
            "  return F.mse_loss(input, target, reduction=self.reduction)\n",
            "/usr/local/lib/python3.6/dist-packages/torch/nn/modules/loss.py:432: UserWarning: Using a target size (torch.Size([12])) that is different to the input size (torch.Size([12, 1])). This will likely lead to incorrect results due to broadcasting. Please ensure they have the same size.\n",
            "  return F.mse_loss(input, target, reduction=self.reduction)\n"
          ],
          "name": "stderr"
        },
        {
          "output_type": "stream",
          "text": [
            "Epoch 1/30000 - Train Loss : 2.7723 / Val Loss : 3.0739\n",
            "Epoch 1000/30000 - Train Loss : 0.0447 / Val Loss : 0.1504\n",
            "Epoch 2000/30000 - Train Loss : 0.0399 / Val Loss : 0.1489\n",
            "Epoch 3000/30000 - Train Loss : 0.0385 / Val Loss : 0.1501\n",
            "Epoch 4000/30000 - Train Loss : 0.0377 / Val Loss : 0.1515\n",
            "Epoch 5000/30000 - Train Loss : 0.0372 / Val Loss : 0.1548\n",
            "Epoch 6000/30000 - Train Loss : 0.0369 / Val Loss : 0.1561\n",
            "Epoch 7000/30000 - Train Loss : 0.0365 / Val Loss : 0.1570\n",
            "Epoch 8000/30000 - Train Loss : 0.0363 / Val Loss : 0.1571\n",
            "Epoch 9000/30000 - Train Loss : 0.0361 / Val Loss : 0.1578\n",
            "Epoch 10000/30000 - Train Loss : 0.0360 / Val Loss : 0.1583\n",
            "\n"
          ],
          "name": "stdout"
        }
      ]
    },
    {
      "cell_type": "code",
      "metadata": {
        "id": "cHlYmPH7DwUM",
        "colab_type": "code",
        "colab": {
          "base_uri": "https://localhost:8080/",
          "height": 211
        },
        "outputId": "4a4f65bb-86b2-4962-e294-4b491fc02c02"
      },
      "source": [
        "import matplotlib.pyplot as plt\n",
        "plt.figure(figsize=(10,3))\n",
        "plt.plot(train_losses, color=\"r\")\n",
        "plt.plot(val_losses, color=\"g\");"
      ],
      "execution_count": 226,
      "outputs": [
        {
          "output_type": "display_data",
          "data": {
            "image/png": "[encoded data removed]",
            "text/plain": [
              "<Figure size 720x216 with 1 Axes>"
            ]
          },
          "metadata": {
            "tags": [],
            "needs_background": "light"
          }
        }
      ]
    },
    {
      "cell_type": "code",
      "metadata": {
        "id": "OV1U4cu__rgT",
        "colab_type": "code",
        "colab": {}
      },
      "source": [
        "train_preds, train_targets = [], []\n",
        "val_preds, val_targets = [], []\n",
        "test_preds, test_targets = [], []\n",
        "\n",
        "SPY_MLP.eval()\n",
        "with torch.no_grad():\n",
        "    for features, target in trainloader_SPY_MLP:\n",
        "        outputs = SPY_MLP(features.to(device))\n",
        "        train_preds += outputs.cpu().numpy().T.tolist()[0]\n",
        "        train_targets += target.numpy().tolist()\n",
        "    for features, target in valloader_SPY_MLP:\n",
        "        outputs = SPY_MLP(features.to(device))\n",
        "        val_preds += outputs.cpu().numpy().T.tolist()[0]\n",
        "        val_targets += target.numpy().tolist()\n",
        "    for features, target in testloader_SPY_MLP:\n",
        "        outputs = SPY_MLP(features.to(device))\n",
        "        test_preds += outputs.cpu().numpy().T.tolist()[0]\n",
        "        test_targets += target.numpy().tolist()"
      ],
      "execution_count": 0,
      "outputs": []
    },
    {
      "cell_type": "code",
      "metadata": {
        "id": "wVYxTBLsEXhG",
        "colab_type": "code",
        "colab": {
          "base_uri": "https://localhost:8080/",
          "height": 306
        },
        "outputId": "a9f7dec1-7824-4d06-e80c-cceb28e4b27e"
      },
      "source": [
        "print(\"Training Set\")\n",
        "print(\"RMSE : \", mean_squared_error(train_targets, train_preds))\n",
        "print(\"MAE : \", mean_absolute_error(train_targets, train_preds))\n",
        "print(\"MAPE : \", mean_absolute_percentage_error(train_targets, train_preds))\n",
        "print(\"Theil-U :\", theil_u(train_targets, train_preds))\n",
        "print(\"\")\n",
        "print(\"Validation Set\")\n",
        "print(\"RMSE : \", mean_squared_error(val_targets, val_preds))\n",
        "print(\"MAE : \", mean_absolute_error(val_targets, val_preds))\n",
        "print(\"MAPE : \", mean_absolute_percentage_error(val_targets, val_preds))\n",
        "print(\"Theil-U :\", theil_u(val_targets, val_preds))\n",
        "print(\"\")\n",
        "print(\"Test Set\")\n",
        "print(\"RMSE : \", mean_squared_error(test_targets, test_preds))\n",
        "print(\"MAE : \", mean_absolute_error(test_targets, test_preds))\n",
        "print(\"MAPE : \", mean_absolute_percentage_error(test_targets, test_preds))\n",
        "print(\"Theil-U :\", theil_u(test_targets, test_preds))"
      ],
      "execution_count": 228,
      "outputs": [
        {
          "output_type": "stream",
          "text": [
            "Training Set\n",
            "RMSE :  0.03766923613021228\n",
            "MAE :  0.1434144272987983\n",
            "MAPE :  0.005727397988808101\n",
            "Theil-U : 0.018818803722122017\n",
            "\n",
            "Validation Set\n",
            "RMSE :  0.06976694470492395\n",
            "MAE :  0.2082852115706792\n",
            "MAPE :  0.051138095303087445\n",
            "Theil-U : 0.00831642805236113\n",
            "\n",
            "Test Set\n",
            "RMSE :  0.35967500665517627\n",
            "MAE :  0.5244200445038507\n",
            "MAPE :  0.06347969736763091\n",
            "Theil-U : 0.022717542588090826\n"
          ],
          "name": "stdout"
        }
      ]
    },
    {
      "cell_type": "code",
      "metadata": {
        "id": "Srv8eUqfSTwo",
        "colab_type": "code",
        "colab": {
          "base_uri": "https://localhost:8080/",
          "height": 265
        },
        "outputId": "8b1bae42-46a6-4f62-fd3b-b019abdbd615"
      },
      "source": [
        "plt.figure(figsize=(10,4))\n",
        "plt.plot(train_targets, color=\"g\")\n",
        "plt.plot(train_preds, color=\"b\");"
      ],
      "execution_count": 229,
      "outputs": [
        {
          "output_type": "display_data",
          "data": {
            "image/png": "[encoded data removed]",
            "text/plain": [
              "<Figure size 720x288 with 1 Axes>"
            ]
          },
          "metadata": {
            "tags": [],
            "needs_background": "light"
          }
        }
      ]
    },
    {
      "cell_type": "code",
      "metadata": {
        "id": "2MSc1A-cFdOE",
        "colab_type": "code",
        "colab": {
          "base_uri": "https://localhost:8080/",
          "height": 265
        },
        "outputId": "5e1cf236-8d41-494f-bde2-0eadf4a4c089"
      },
      "source": [
        "plt.figure(figsize=(10,4))\n",
        "plt.plot(val_targets, color=\"g\")\n",
        "plt.plot(val_preds, color=\"b\");"
      ],
      "execution_count": 230,
      "outputs": [
        {
          "output_type": "display_data",
          "data": {
            "image/png": "[encoded data removed]",
            "text/plain": [
              "<Figure size 720x288 with 1 Axes>"
            ]
          },
          "metadata": {
            "tags": [],
            "needs_background": "light"
          }
        }
      ]
    },
    {
      "cell_type": "code",
      "metadata": {
        "id": "tMbL-AR-GPXY",
        "colab_type": "code",
        "colab": {
          "base_uri": "https://localhost:8080/",
          "height": 265
        },
        "outputId": "a41bfe45-96b4-491b-ac36-e297c087f3ed"
      },
      "source": [
        "plt.figure(figsize=(10,4))\n",
        "plt.plot(test_targets, color=\"g\")\n",
        "plt.plot(test_preds, color=\"b\");"
      ],
      "execution_count": 231,
      "outputs": [
        {
          "output_type": "display_data",
          "data": {
            "image/png": "[encoded data removed]",
            "text/plain": [
              "<Figure size 720x288 with 1 Axes>"
            ]
          },
          "metadata": {
            "tags": [],
            "needs_background": "light"
          }
        }
      ]
    },
    {
      "cell_type": "code",
      "metadata": {
        "id": "9OSF0BBwRf1W",
        "colab_type": "code",
        "colab": {}
      },
      "source": [
        ""
      ],
      "execution_count": 0,
      "outputs": []
    }
  ]
}