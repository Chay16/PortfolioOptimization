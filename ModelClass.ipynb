{
 "cells": [
  {
   "cell_type": "code",
   "execution_count": 1,
   "metadata": {},
   "outputs": [],
   "source": [
    "import torch"
   ]
  },
  {
   "cell_type": "code",
   "execution_count": 109,
   "metadata": {},
   "outputs": [],
   "source": [
    "class RNN(torch.nn.Module):\n",
    "    def __init__(self, input_size, hidden_size, output_size):\n",
    "        super(RNN, self).__init__()\n",
    "\n",
    "        self.input_size = input_size\n",
    "        self.hidden_size = hidden_size\n",
    "        self.output_size = output_size\n",
    "        self.n_layers = 1\n",
    "\n",
    "        self.rnn = torch.nn.RNN(self.input_size, self.hidden_size, self.n_layers)\n",
    "        self.fc = torch.nn.Linear(self.hidden_size, self.output_size)\n",
    "        \n",
    "    def forward(self, x):\n",
    "        batch_size = x.size(0)\n",
    "        out, hidden = self.rnn(x)\n",
    "        out = out.contiguous().view(-1, self.hidden_size)\n",
    "        out = self.fc(out)\n",
    "        \n",
    "        return out, hidden\n",
    "\n",
    "class PSN(torch.nn.Module):\n",
    "    def __init__(self, input_size, hidden_size, output_size):\n",
    "        super(PSN, self).__init__()\n",
    "\n",
    "        self.input_size = input_size\n",
    "        self.hidden_size = hidden_size\n",
    "        self.output_size = output_size\n",
    "\n",
    "        self.fc = torch.nn.Linear(self.input_size, self.hidden_size)\n",
    "        \n",
    "    def forward(self, x):\n",
    "        x = self.fc(x)\n",
    "        x = torch.sum(x, axis=1)\n",
    "        x = torch.sigmoid(x)\n",
    "        \n",
    "        return x\n",
    "\n",
    "\n",
    "class NN:\n",
    "    def __init__(self, NNtype, input_size, hidden_size, output_size):\n",
    "        self.NNtype = NNtype\n",
    "        self.input_size = input_size\n",
    "        self.hidden_size = hidden_size\n",
    "        self.output_size = output_size\n",
    "        self.model = None\n",
    "        \n",
    "    def init_model(self):\n",
    "        if self.NNtype == \"MLP\":\n",
    "            self.model = torch.nn.Sequential(\n",
    "                                                torch.nn.Linear(self.input_size, self.hidden_size),\n",
    "                                                torch.nn.Sigmoid(),\n",
    "                                                torch.nn.Linear(self.hidden_size, self.output_size)\n",
    "                                            )\n",
    "            print(self.model)\n",
    "        elif self.NNtype == \"RNN\":\n",
    "            self.model = RNN(self.input_size, self.hidden_size, self.output_size)\n",
    "            print(self.model)\n",
    "        elif self.NNtype == \"PSN\":\n",
    "            self.model = PSN(self.input_size, self.hidden_size, self.output_size)\n",
    "            print(self.model)\n",
    "        else:\n",
    "            return \"NN Type not implemented. Choose between ['MLP', 'RNN', 'PSN']\""
   ]
  },
  {
   "cell_type": "code",
   "execution_count": 110,
   "metadata": {},
   "outputs": [
    {
     "name": "stdout",
     "output_type": "stream",
     "text": [
      "Sequential(\n",
      "  (0): Linear(in_features=7, out_features=6, bias=True)\n",
      "  (1): Sigmoid()\n",
      "  (2): Linear(in_features=6, out_features=1, bias=True)\n",
      ")\n",
      "RNN(\n",
      "  (rnn): RNN(9, 6)\n",
      "  (fc): Linear(in_features=6, out_features=1, bias=True)\n",
      ")\n",
      "PSN(\n",
      "  (fc): Linear(in_features=7, out_features=5, bias=True)\n",
      ")\n"
     ]
    }
   ],
   "source": [
    "modelMLP = NN(\"MLP\", 7, 6, 1)\n",
    "modelMLP.init_model()\n",
    "modelRNN = NN(\"RNN\", 9, 6, 1)\n",
    "modelRNN.init_model()\n",
    "modelPSN = NN(\"PSN\", 7, 5, 1)\n",
    "modelPSN.init_model()"
   ]
  },
  {
   "cell_type": "code",
   "execution_count": 111,
   "metadata": {},
   "outputs": [],
   "source": [
    "inpMLP = torch.randn(1,7)\n",
    "inpRNN = torch.randn(1,1,9)\n",
    "inpPSN = torch.randn(1,7)\n",
    "outMLP = modelMLP.model(inpMLP)\n",
    "outRNN, h = modelRNN.model(inpRNN)\n",
    "outPSN = modelPSN.model(inpPSN)"
   ]
  },
  {
   "cell_type": "code",
   "execution_count": 112,
   "metadata": {},
   "outputs": [
    {
     "name": "stdout",
     "output_type": "stream",
     "text": [
      "-0.16933925449848175\n",
      "-0.15996181964874268\n",
      "0.4985787272453308\n"
     ]
    }
   ],
   "source": [
    "print(outMLP.item())\n",
    "print(outRNN.item())\n",
    "print(outPSN.item())"
   ]
  },
  {
   "cell_type": "code",
   "execution_count": 107,
   "metadata": {},
   "outputs": [],
   "source": [
    "import NN"
   ]
  },
  {
   "cell_type": "code",
   "execution_count": 108,
   "metadata": {},
   "outputs": [
    {
     "name": "stdout",
     "output_type": "stream",
     "text": [
      "Sequential(\n",
      "  (0): Linear(in_features=7, out_features=6, bias=True)\n",
      "  (1): Sigmoid()\n",
      "  (2): Linear(in_features=6, out_features=1, bias=True)\n",
      ")\n",
      "RNN(\n",
      "  (rnn): RNN(9, 6)\n",
      "  (fc): Linear(in_features=6, out_features=1, bias=True)\n",
      ")\n",
      "PSN(\n",
      "  (fc): Linear(in_features=7, out_features=5, bias=True)\n",
      ")\n"
     ]
    }
   ],
   "source": [
    "modelMLP = NN.NN(\"MLP\", 7, 6, 1)\n",
    "modelMLP.init_model()\n",
    "modelRNN = NN.NN(\"RNN\", 9, 6, 1)\n",
    "modelRNN.init_model()\n",
    "modelPSN = NN.NN(\"PSN\", 7, 5, 1)\n",
    "modelPSN.init_model()"
   ]
  },
  {
   "cell_type": "code",
   "execution_count": 115,
   "metadata": {},
   "outputs": [
    {
     "name": "stdout",
     "output_type": "stream",
     "text": [
      "tensor([[[ 0.2597, -0.7978,  0.9648,  0.7947, -0.8343,  0.2479]]],\n",
      "       grad_fn=<StackBackward>)\n",
      "tensor([[[-0.1999, -0.5791,  0.6782,  0.8638, -0.8005,  0.1887]]],\n",
      "       grad_fn=<StackBackward>)\n"
     ]
    }
   ],
   "source": [
    "inpRNN = torch.randn(1,1,9)\n",
    "outRNN, h = modelRNN.model(inpRNN)\n",
    "print(h)\n",
    "inpRNN = torch.randn(1,1,9)\n",
    "outRNN, h = modelRNN.model(inpRNN)\n",
    "print(h)"
   ]
  },
  {
   "cell_type": "code",
   "execution_count": null,
   "metadata": {},
   "outputs": [],
   "source": []
  }
 ],
 "metadata": {
  "kernelspec": {
   "display_name": "Python 3",
   "language": "python",
   "name": "python3"
  },
  "language_info": {
   "codemirror_mode": {
    "name": "ipython",
    "version": 3
   },
   "file_extension": ".py",
   "mimetype": "text/x-python",
   "name": "python",
   "nbconvert_exporter": "python",
   "pygments_lexer": "ipython3",
   "version": "3.7.1"
  }
 },
 "nbformat": 4,
 "nbformat_minor": 4
}
