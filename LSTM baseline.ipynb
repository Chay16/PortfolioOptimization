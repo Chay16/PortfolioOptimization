{
 "cells": [
  {
   "cell_type": "code",
   "execution_count": 1,
   "metadata": {},
   "outputs": [],
   "source": [
    "## Treat larger sequence "
   ]
  },
  {
   "cell_type": "code",
   "execution_count": 3,
   "metadata": {},
   "outputs": [],
   "source": [
    "import os\n",
    "import NN\n",
    "import utils\n",
    "from torch import save as save_model\n",
    "from torch import load as load_model\n",
    "import config as cfg\n",
    "import pandas as pd\n",
    "import seaborn as sns\n",
    "import numpy as np\n",
    "import torch\n",
    "import matplotlib.pyplot as plt\n",
    "import warnings\n",
    "warnings.filterwarnings('ignore')"
   ]
  },
  {
   "cell_type": "code",
   "execution_count": 4,
   "metadata": {},
   "outputs": [],
   "source": [
    "ETF = 'SPY' # 'SPY', 'DIA', 'QQQ'\n",
    "NNtype = 'MLP' # 'MLP', 'RNN', 'PSN'\n",
    "params = cfg.train_parameters[ETF][NNtype]\n",
    "inputs_lag = cfg.SPYfeatures[NNtype] # SPYfeatures, DIAfeatures, QQQfeatures"
   ]
  },
  {
   "cell_type": "code",
   "execution_count": 5,
   "metadata": {},
   "outputs": [
    {
     "data": {
      "text/html": [
       "<div>\n",
       "<style scoped>\n",
       "    .dataframe tbody tr th:only-of-type {\n",
       "        vertical-align: middle;\n",
       "    }\n",
       "\n",
       "    .dataframe tbody tr th {\n",
       "        vertical-align: top;\n",
       "    }\n",
       "\n",
       "    .dataframe thead th {\n",
       "        text-align: right;\n",
       "    }\n",
       "</style>\n",
       "<table border=\"1\" class=\"dataframe\">\n",
       "  <thead>\n",
       "    <tr style=\"text-align: right;\">\n",
       "      <th></th>\n",
       "      <th>Adj Close</th>\n",
       "      <th>Return</th>\n",
       "      <th>Return_1</th>\n",
       "      <th>Return_3</th>\n",
       "      <th>Return_5</th>\n",
       "      <th>Return_7</th>\n",
       "      <th>Return_8</th>\n",
       "      <th>Return_9</th>\n",
       "      <th>Return_12</th>\n",
       "      <th>Target</th>\n",
       "    </tr>\n",
       "    <tr>\n",
       "      <th>Date</th>\n",
       "      <th></th>\n",
       "      <th></th>\n",
       "      <th></th>\n",
       "      <th></th>\n",
       "      <th></th>\n",
       "      <th></th>\n",
       "      <th></th>\n",
       "      <th></th>\n",
       "      <th></th>\n",
       "      <th></th>\n",
       "    </tr>\n",
       "  </thead>\n",
       "  <tbody>\n",
       "    <tr>\n",
       "      <th>2011-01-03</th>\n",
       "      <td>105.443665</td>\n",
       "      <td>0.010285</td>\n",
       "      <td>0.000239</td>\n",
       "      <td>0.000715</td>\n",
       "      <td>0.000398</td>\n",
       "      <td>0.003106</td>\n",
       "      <td>0.006320</td>\n",
       "      <td>0.002410</td>\n",
       "      <td>-0.004583</td>\n",
       "      <td>0.010285</td>\n",
       "    </tr>\n",
       "    <tr>\n",
       "      <th>2011-01-04</th>\n",
       "      <td>105.385559</td>\n",
       "      <td>-0.000551</td>\n",
       "      <td>0.010285</td>\n",
       "      <td>-0.001590</td>\n",
       "      <td>0.001432</td>\n",
       "      <td>-0.001432</td>\n",
       "      <td>0.003106</td>\n",
       "      <td>0.006320</td>\n",
       "      <td>0.005785</td>\n",
       "      <td>-0.000551</td>\n",
       "    </tr>\n",
       "    <tr>\n",
       "      <th>2011-01-05</th>\n",
       "      <td>105.933296</td>\n",
       "      <td>0.005184</td>\n",
       "      <td>-0.000551</td>\n",
       "      <td>0.000239</td>\n",
       "      <td>0.000715</td>\n",
       "      <td>0.000398</td>\n",
       "      <td>-0.001432</td>\n",
       "      <td>0.003106</td>\n",
       "      <td>0.001071</td>\n",
       "      <td>0.005184</td>\n",
       "    </tr>\n",
       "    <tr>\n",
       "      <th>2011-01-06</th>\n",
       "      <td>105.725830</td>\n",
       "      <td>-0.001960</td>\n",
       "      <td>0.005184</td>\n",
       "      <td>0.010285</td>\n",
       "      <td>-0.001590</td>\n",
       "      <td>0.001432</td>\n",
       "      <td>0.000398</td>\n",
       "      <td>-0.001432</td>\n",
       "      <td>0.002410</td>\n",
       "      <td>-0.001960</td>\n",
       "    </tr>\n",
       "    <tr>\n",
       "      <th>2011-01-07</th>\n",
       "      <td>105.518341</td>\n",
       "      <td>-0.001964</td>\n",
       "      <td>-0.001960</td>\n",
       "      <td>-0.000551</td>\n",
       "      <td>0.000239</td>\n",
       "      <td>0.000715</td>\n",
       "      <td>0.001432</td>\n",
       "      <td>0.000398</td>\n",
       "      <td>0.006320</td>\n",
       "      <td>-0.001964</td>\n",
       "    </tr>\n",
       "  </tbody>\n",
       "</table>\n",
       "</div>"
      ],
      "text/plain": [
       "             Adj Close    Return  Return_1  Return_3  Return_5  Return_7  \\\n",
       "Date                                                                       \n",
       "2011-01-03  105.443665  0.010285  0.000239  0.000715  0.000398  0.003106   \n",
       "2011-01-04  105.385559 -0.000551  0.010285 -0.001590  0.001432 -0.001432   \n",
       "2011-01-05  105.933296  0.005184 -0.000551  0.000239  0.000715  0.000398   \n",
       "2011-01-06  105.725830 -0.001960  0.005184  0.010285 -0.001590  0.001432   \n",
       "2011-01-07  105.518341 -0.001964 -0.001960 -0.000551  0.000239  0.000715   \n",
       "\n",
       "            Return_8  Return_9  Return_12    Target  \n",
       "Date                                                 \n",
       "2011-01-03  0.006320  0.002410  -0.004583  0.010285  \n",
       "2011-01-04  0.003106  0.006320   0.005785 -0.000551  \n",
       "2011-01-05 -0.001432  0.003106   0.001071  0.005184  \n",
       "2011-01-06  0.000398 -0.001432   0.002410 -0.001960  \n",
       "2011-01-07  0.001432  0.000398   0.006320 -0.001964  "
      ]
     },
     "execution_count": 5,
     "metadata": {},
     "output_type": "execute_result"
    }
   ],
   "source": [
    "traindf = utils.load_file(os.path.join(\"data\", ETF, NNtype, \"Train.pkl\"))\n",
    "validdf = utils.load_file(os.path.join(\"data\", ETF, NNtype, \"Valid.pkl\"))\n",
    "testdf  = utils.load_file(os.path.join(\"data\", ETF, NNtype, \"Test.pkl\"))\n",
    "traindf.head()\n"
   ]
  },
  {
   "cell_type": "code",
   "execution_count": 21,
   "metadata": {},
   "outputs": [
    {
     "name": "stdout",
     "output_type": "stream",
     "text": [
      "0.00046072151796993163 0.007377619169662766\n",
      "502\n"
     ]
    }
   ],
   "source": [
    "features_col = []\n",
    "for i in inputs_lag:\n",
    "    features_col.append(\"Return_\" + str(i))\n",
    "target_col   = 'Target'\n",
    "\n",
    "mu_train, sigma_train = traindf.Return.mean(), traindf.Return.std()\n",
    "mu_val, sigma_val = validdf.Return.mean(), validdf.Return.std()\n",
    "mu_test, sigma_test = testdf.Return.mean(), testdf.Return.std()\n",
    "\n",
    "print(mu_test, sigma_test)\n",
    "print(len(trainloader))\n",
    "\n",
    "trainloader = utils.DataFrame2DataLoader(traindf, features_col, target_col, batch_size=1, normalize=True, mu=mu_train, sigma=sigma_train)\n",
    "validloader = utils.DataFrame2DataLoader(validdf, features_col, target_col, batch_size=1, normalize=True, mu=mu_val, sigma=sigma_val)\n",
    "testloader  = utils.DataFrame2DataLoader(testdf, features_col, target_col, batch_size=1, normalize=True, mu=mu_test, sigma=sigma_test)"
   ]
  },
  {
   "cell_type": "code",
   "execution_count": 7,
   "metadata": {},
   "outputs": [
    {
     "data": {
      "text/plain": [
       "<matplotlib.axes._subplots.AxesSubplot at 0x7f599b0faad0>"
      ]
     },
     "execution_count": 7,
     "metadata": {},
     "output_type": "execute_result"
    },
    {
     "data": {
      "image/png": "[encoded data removed]",
      "text/plain": [
       "<Figure size 504x504 with 2 Axes>"
      ]
     },
     "metadata": {
      "needs_background": "light"
     },
     "output_type": "display_data"
    }
   ],
   "source": [
    "X = []\n",
    "Y = []\n",
    "for item in validloader:\n",
    "    X.append((torch.sum(item[0])/len(item[0])))\n",
    "    Y.append(item[1])\n",
    "normal_df = pd.DataFrame(list(zip(X,Y)), columns= [\"X\",\"Y\"])\n",
    "\n",
    "f, axes = plt.subplots(2, 1, figsize=(7, 7))\n",
    "sns.distplot(normal_df[\"X\"], color=\"m\", ax =axes[0])\n",
    "sns.distplot(normal_df[\"Y\"], color=\"m\", ax= axes[1])\n"
   ]
  },
  {
   "cell_type": "code",
   "execution_count": 10,
   "metadata": {},
   "outputs": [
    {
     "name": "stdout",
     "output_type": "stream",
     "text": [
      "Metrics with random init\n",
      "train_loss: 502.5148315430 val_loss: 251.7697601318 \n"
     ]
    }
   ],
   "source": [
    "import torch.nn as nn \n",
    "loss_function = nn.MSELoss()\n",
    "\n",
    "\n",
    "class LSTM(nn.Module):\n",
    "    def __init__(self, input_size=1, hidden_layer_size=70, output_size=1):\n",
    "        super().__init__()\n",
    "        self.hidden_layer_size = hidden_layer_size\n",
    "\n",
    "        self.lstm = nn.LSTM(input_size, hidden_layer_size, num_layers= 2,dropout=0.25 )\n",
    "\n",
    "        self.linear = nn.Linear(hidden_layer_size, output_size)\n",
    "\n",
    "        self.hidden_cell = (torch.zeros(2,1,self.hidden_layer_size),\n",
    "                            torch.zeros(2,1,self.hidden_layer_size))\n",
    "\n",
    "    def forward(self, input_seq):\n",
    "        lstm_out, self.hidden_cell = self.lstm(input_seq.view(len(input_seq) ,1, -1), self.hidden_cell)\n",
    "        predictions = self.linear(lstm_out.view(len(input_seq), -1))\n",
    "        return predictions[-1]\n",
    "    \n",
    "\n",
    "\n",
    "        \n",
    "model = LSTM()\n",
    "model.eval()\n",
    "with torch.no_grad():\n",
    "    loss_valid = 0\n",
    "    for seq, labels in validloader:\n",
    "        y_pred = model(seq.squeeze())\n",
    "        loss_valid += loss_function((y_pred ), (labels))\n",
    "        #loss_valid += loss_function((y_pred + mu_val) * sigma_val, (labels + mu_val) * sigma_val)\n",
    "\n",
    "    loss_train = 0 \n",
    "    for seq, labels in trainloader:\n",
    "        y_pred = model(seq.squeeze())\n",
    "        loss_train += loss_function((y_pred), labels )\n",
    "\n",
    "        #loss_train += loss_function((y_pred + mu_train) * sigma_train, (labels + mu_train) * sigma_train)\n",
    "print(\"Metrics with random init\")\n",
    "print(f'train_loss: {loss_train:10.10f} val_loss: {loss_valid:10.10f} ')\n"
   ]
  },
  {
   "cell_type": "code",
   "execution_count": null,
   "metadata": {},
   "outputs": [],
   "source": [
    "epochs = 70\n",
    "train_loss = []\n",
    "val_loss = []\n",
    "loss_function = nn.MSELoss()\n",
    "optimizer = torch.optim.Adam(model.parameters(), lr=0.001)\n",
    "for i in range(epochs):\n",
    "    for seq, labels in trainloader:\n",
    "        model.train()\n",
    "        optimizer.zero_grad()\n",
    "\n",
    "        model.hidden_cell = (torch.zeros(2, 1, model.hidden_layer_size),\n",
    "                        torch.zeros(2, 1, model.hidden_layer_size))\n",
    "\n",
    "        y_pred = model(seq.squeeze())\n",
    "\n",
    "        single_loss = loss_function(y_pred, labels)\n",
    "        single_loss.backward()\n",
    "        optimizer.step()\n",
    "        \n",
    "    ###############################\n",
    "    ###########Validation##########\n",
    "    ###############################\n",
    "    if i%25 == 1:\n",
    "        model.eval()\n",
    "        with torch.no_grad():\n",
    "            loss_valid = 0\n",
    "            for seq, labels in validloader:\n",
    "                y_pred = model(seq.squeeze())\n",
    "                loss_valid += loss_function((y_pred ), (labels))\n",
    "                #loss_valid += loss_function((y_pred + mu_val) * sigma_val, (labels + mu_val) * sigma_val)\n",
    "\n",
    "            val_loss.append(loss_valid.item())\n",
    "            loss_train = 0 \n",
    "            for seq, labels in trainloader:\n",
    "                y_pred = model(seq.squeeze())\n",
    "                loss_train += loss_function((y_pred), labels )\n",
    "\n",
    "                #loss_train += loss_function((y_pred + mu_train) * sigma_train, (labels + mu_train) * sigma_train)\n",
    "            train_loss.append(loss_train.item())\n",
    "        print(f'epoch: {i:3} train_loss: {loss_train:10.10f} val_loss: {loss_valid:10.10f} ')\n",
    "\n",
    "        \n",
    "plt.plot(train_loss)\n",
    "plt.plot(val_loss)"
   ]
  },
  {
   "cell_type": "code",
   "execution_count": 12,
   "metadata": {},
   "outputs": [],
   "source": [
    "from sklearn.metrics import mean_absolute_error, mean_squared_error\n",
    "from utils import mean_absolute_percentage_error, theilU, PT_test\n",
    "\n",
    "def evaluate(testloader, mu, sigma):\n",
    "\n",
    "    valid_targets = []\n",
    "    valid_preds = []\n",
    "    with torch.no_grad():\n",
    "        for seq, target in testloader:\n",
    "            valid_preds.append(model(seq.squeeze()))\n",
    "            valid_targets += target.numpy().tolist()\n",
    "\n",
    "\n",
    "     \n",
    "    validRMSE = mean_squared_error((valid_targets + mu)* sigma, (valid_preds+mu)*sigma)\n",
    "    validMAE = mean_absolute_error((valid_targets + mu)* sigma, (valid_preds+mu)*sigma)\n",
    "    validMAPE = mean_absolute_percentage_error((np.array(valid_targets)+ mu) * sigma , (np.array(valid_preds) + mu) * sigma)\n",
    "    validTheilU = theilU((np.array(valid_targets)+ mu) * sigma , (np.array(valid_preds) + mu) * sigma)\n",
    "\n",
    "    print(\"MAE : {:.4f} |  MAPE  : {:.4f} |  RMSE : {:.5f} | Theil-U {:.4f}\".format(validMAE, validMAPE, validRMSE, validTheilU))\n",
    "    \n",
    "    plt.plot(valid_targets)\n",
    "    plt.plot(valid_preds)"
   ]
  },
  {
   "cell_type": "code",
   "execution_count": 13,
   "metadata": {},
   "outputs": [
    {
     "name": "stdout",
     "output_type": "stream",
     "text": [
      "MAE : 0.0064 |  MAPE  : 3.3922 |  RMSE : 0.00007 | Theil-U 0.6902\n"
     ]
    },
    {
     "data": {
      "image/png": "[encoded data removed]",
      "text/plain": [
       "<Figure size 432x288 with 1 Axes>"
      ]
     },
     "metadata": {
      "needs_background": "light"
     },
     "output_type": "display_data"
    }
   ],
   "source": [
    "evaluate(testloader, mu_test, sigma_test)"
   ]
  },
  {
   "cell_type": "markdown",
   "metadata": {},
   "source": [
    "### Predictions"
   ]
  },
  {
   "cell_type": "code",
   "execution_count": 20,
   "metadata": {},
   "outputs": [],
   "source": [
    "def predict(testloader, mu, sigma):\n",
    "    predicted_labels = []\n",
    "    model.eval()\n",
    "    with torch.no_grad():\n",
    "        for seq, target in testloader:\n",
    "            predicted_labels.append(model(seq.squeeze()))\n",
    "    return (predicted_labels + mu) * sigma\n",
    "\n",
    "y_hat = predict(testloader, mu_test, sigma_test)\n"
   ]
  }
 ],
 "metadata": {
  "kernelspec": {
   "display_name": "Python 3",
   "language": "python",
   "name": "python3"
  },
  "language_info": {
   "codemirror_mode": {
    "name": "ipython",
    "version": 3
   },
   "file_extension": ".py",
   "mimetype": "text/x-python",
   "name": "python",
   "nbconvert_exporter": "python",
   "pygments_lexer": "ipython3",
   "version": "3.7.7"
  }
 },
 "nbformat": 4,
 "nbformat_minor": 4
}
