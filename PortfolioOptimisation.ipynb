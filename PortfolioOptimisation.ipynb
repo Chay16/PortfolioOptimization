{
 "cells": [
  {
   "cell_type": "code",
   "execution_count": 1,
   "metadata": {
    "execution": {
     "iopub.execute_input": "2020-09-30T14:10:28.454843Z",
     "iopub.status.busy": "2020-09-30T14:10:28.453842Z",
     "iopub.status.idle": "2020-09-30T14:10:30.354814Z",
     "shell.execute_reply": "2020-09-30T14:10:30.354814Z",
     "shell.execute_reply.started": "2020-09-30T14:10:28.454843Z"
    }
   },
   "outputs": [],
   "source": [
    "# import\n",
    "import pandas as pd\n",
    "import numpy as np\n",
    "from functools import reduce\n",
    "\n",
    "import matplotlib.pyplot as plt\n",
    "import seaborn as sns\n",
    "\n",
    "from scipy.stats import skew, kurtosis\n",
    "import utils\n",
    "\n",
    "import NN\n",
    "import os\n",
    "from torch import load as load_model\n",
    "import config as cfg"
   ]
  },
  {
   "cell_type": "code",
   "execution_count": 2,
   "metadata": {
    "execution": {
     "iopub.execute_input": "2020-09-30T14:10:30.357777Z",
     "iopub.status.busy": "2020-09-30T14:10:30.356778Z",
     "iopub.status.idle": "2020-09-30T14:10:30.364775Z",
     "shell.execute_reply": "2020-09-30T14:10:30.363774Z",
     "shell.execute_reply.started": "2020-09-30T14:10:30.357777Z"
    }
   },
   "outputs": [],
   "source": [
    "LSTM_RESULTS_PATH = \"models_norm/LSTM_preds\"\n",
    "MLP_RESULTS_PATH = \"models_norm/MLP_preds\"\n",
    "RNN_RESULTS_PATH = \"models_norm/RNN_preds\"\n",
    "PSN_RESULTS_PATH = \"models_norm/PSN_preds\""
   ]
  },
  {
   "cell_type": "code",
   "execution_count": 3,
   "metadata": {
    "execution": {
     "iopub.execute_input": "2020-09-30T14:10:30.366771Z",
     "iopub.status.busy": "2020-09-30T14:10:30.365772Z",
     "iopub.status.idle": "2020-09-30T14:10:30.716329Z",
     "shell.execute_reply": "2020-09-30T14:10:30.715330Z",
     "shell.execute_reply.started": "2020-09-30T14:10:30.366771Z"
    }
   },
   "outputs": [],
   "source": [
    "# all data\n",
    "dia_df = pd.read_csv(\"data/DIA.csv\")\n",
    "qqq_df = pd.read_csv(\"data/QQQ.csv\")\n",
    "spy_df = pd.read_csv(\"data/SPY.csv\")\n",
    "\n",
    "# risk free\n",
    "riskfree = pd.read_csv(\"data/Tbill/Valid.csv\")\n",
    "riskfreeDf = riskfree[['Date', 'Adj Close']].copy()\n",
    "riskfreeDf['Date'] = pd.to_datetime(riskfreeDf['Date'])\n",
    "riskfreeDf.set_index('Date', inplace=True)\n",
    "riskfreeDf.rename(columns={'Adj Close':'Risk_free'}, inplace=True)\n",
    "riskfreeRate = riskfreeDf[\"Risk_free\"].mean()\n",
    "\n",
    "# adding suffix to all df\n",
    "dia_df.columns=dia_df.columns.map(lambda x : x+'_dia' if x !='Date' else x)\n",
    "qqq_df.columns=qqq_df.columns.map(lambda x : x+'_qqq' if x !='Date' else x)\n",
    "spy_df.columns=spy_df.columns.map(lambda x : x+'_spy' if x !='Date' else x)\n",
    "\n",
    "dfs = [dia_df, qqq_df, spy_df]\n",
    "\n",
    "df = reduce(lambda left,right: pd.merge(left,right,on='Date'), dfs)\n",
    "\n",
    "# set date column as index\n",
    "df['Date'] = pd.to_datetime(df['Date'])\n",
    "df.set_index('Date', inplace=True)\n",
    "\n",
    "# keeping only the correct date 03/01/2011 to 13/04/2015\n",
    "Total_df = df.loc[('2011-01-03' <= df.index) & (df.index <= '2015-04-13')]\n",
    "Training_df = df.loc[('2011-01-03' <= df.index) & (df.index <= '2012-12-31')]\n",
    "Test_df = df.loc[('2013-01-02' <= df.index) & (df.index <= '2013-12-31')]\n",
    "Out_of_sample_df = df.loc[('2014-01-02' <= df.index) & (df.index <= '2015-04-13')]\n",
    "\n",
    "# ptf portfolio\n",
    "Total_adj_close_df = Total_df[['Adj Close_dia', 'Adj Close_qqq', 'Adj Close_spy']].copy()\n",
    "Total_adj_close_df[['prev_adj_Close_dia', 'prev_adj_Close_qqq', 'prev_adj_Close_spy']] = Total_adj_close_df[['Adj Close_dia', 'Adj Close_qqq', 'Adj Close_spy']].shift(periods=1)\n",
    "\n",
    "# weeklyDf = Total_adj_close_df.resample('D').interpolate()[::7]\n",
    "weeklyDf = Total_adj_close_df.copy()\n",
    "\n",
    "weeklyDf['DIA'] = np.log(weeklyDf['Adj Close_dia']) - np.log(weeklyDf['prev_adj_Close_dia'])\n",
    "weeklyDf['QQQ'] = np.log(weeklyDf['Adj Close_qqq']) - np.log(weeklyDf['prev_adj_Close_qqq'])\n",
    "weeklyDf['SPY'] = np.log(weeklyDf['Adj Close_spy']) - np.log(weeklyDf['prev_adj_Close_spy'])\n",
    "\n",
    "# keeping only Out-of-Sample\n",
    "weeklyDf = weeklyDf[(weeklyDf.index >= '2014-01-01')]\n",
    "weeklyDf = weeklyDf[['DIA', 'QQQ', 'SPY']]\n",
    "weeklyDf['1/N'] = (1/3) * (weeklyDf['DIA'] + weeklyDf['QQQ'] + weeklyDf['SPY'])"
   ]
  },
  {
   "cell_type": "code",
   "execution_count": 4,
   "metadata": {
    "execution": {
     "iopub.execute_input": "2020-09-30T14:10:30.719328Z",
     "iopub.status.busy": "2020-09-30T14:10:30.718328Z",
     "iopub.status.idle": "2020-09-30T14:10:30.754306Z",
     "shell.execute_reply": "2020-09-30T14:10:30.753308Z",
     "shell.execute_reply.started": "2020-09-30T14:10:30.719328Z"
    }
   },
   "outputs": [
    {
     "data": {
      "text/html": [
       "<div>\n",
       "<style scoped>\n",
       "    .dataframe tbody tr th:only-of-type {\n",
       "        vertical-align: middle;\n",
       "    }\n",
       "\n",
       "    .dataframe tbody tr th {\n",
       "        vertical-align: top;\n",
       "    }\n",
       "\n",
       "    .dataframe thead th {\n",
       "        text-align: right;\n",
       "    }\n",
       "</style>\n",
       "<table border=\"1\" class=\"dataframe\">\n",
       "  <thead>\n",
       "    <tr style=\"text-align: right;\">\n",
       "      <th></th>\n",
       "      <th>DIA</th>\n",
       "      <th>QQQ</th>\n",
       "      <th>SPY</th>\n",
       "      <th>1/N</th>\n",
       "    </tr>\n",
       "    <tr>\n",
       "      <th>Date</th>\n",
       "      <th></th>\n",
       "      <th></th>\n",
       "      <th></th>\n",
       "      <th></th>\n",
       "    </tr>\n",
       "  </thead>\n",
       "  <tbody>\n",
       "    <tr>\n",
       "      <th>2014-01-02</th>\n",
       "      <td>-0.008253</td>\n",
       "      <td>-0.007876</td>\n",
       "      <td>-0.009630</td>\n",
       "      <td>-0.008586</td>\n",
       "    </tr>\n",
       "    <tr>\n",
       "      <th>2014-01-03</th>\n",
       "      <td>0.001705</td>\n",
       "      <td>-0.007245</td>\n",
       "      <td>-0.000164</td>\n",
       "      <td>-0.001902</td>\n",
       "    </tr>\n",
       "    <tr>\n",
       "      <th>2014-01-06</th>\n",
       "      <td>-0.003046</td>\n",
       "      <td>-0.003700</td>\n",
       "      <td>-0.002902</td>\n",
       "      <td>-0.003216</td>\n",
       "    </tr>\n",
       "    <tr>\n",
       "      <th>2014-01-07</th>\n",
       "      <td>0.006568</td>\n",
       "      <td>0.009225</td>\n",
       "      <td>0.006123</td>\n",
       "      <td>0.007305</td>\n",
       "    </tr>\n",
       "    <tr>\n",
       "      <th>2014-01-08</th>\n",
       "      <td>-0.003765</td>\n",
       "      <td>0.002179</td>\n",
       "      <td>0.000218</td>\n",
       "      <td>-0.000456</td>\n",
       "    </tr>\n",
       "    <tr>\n",
       "      <th>...</th>\n",
       "      <td>...</td>\n",
       "      <td>...</td>\n",
       "      <td>...</td>\n",
       "      <td>...</td>\n",
       "    </tr>\n",
       "    <tr>\n",
       "      <th>2015-04-07</th>\n",
       "      <td>-0.000952</td>\n",
       "      <td>-0.001700</td>\n",
       "      <td>-0.002650</td>\n",
       "      <td>-0.001767</td>\n",
       "    </tr>\n",
       "    <tr>\n",
       "      <th>2015-04-08</th>\n",
       "      <td>0.001848</td>\n",
       "      <td>0.007908</td>\n",
       "      <td>0.003371</td>\n",
       "      <td>0.004376</td>\n",
       "    </tr>\n",
       "    <tr>\n",
       "      <th>2015-04-09</th>\n",
       "      <td>0.003629</td>\n",
       "      <td>0.006263</td>\n",
       "      <td>0.004414</td>\n",
       "      <td>0.004769</td>\n",
       "    </tr>\n",
       "    <tr>\n",
       "      <th>2015-04-10</th>\n",
       "      <td>0.005393</td>\n",
       "      <td>0.004092</td>\n",
       "      <td>0.005442</td>\n",
       "      <td>0.004976</td>\n",
       "    </tr>\n",
       "    <tr>\n",
       "      <th>2015-04-13</th>\n",
       "      <td>-0.004055</td>\n",
       "      <td>-0.002509</td>\n",
       "      <td>-0.004533</td>\n",
       "      <td>-0.003699</td>\n",
       "    </tr>\n",
       "  </tbody>\n",
       "</table>\n",
       "<p>321 rows × 4 columns</p>\n",
       "</div>"
      ],
      "text/plain": [
       "                 DIA       QQQ       SPY       1/N\n",
       "Date                                              \n",
       "2014-01-02 -0.008253 -0.007876 -0.009630 -0.008586\n",
       "2014-01-03  0.001705 -0.007245 -0.000164 -0.001902\n",
       "2014-01-06 -0.003046 -0.003700 -0.002902 -0.003216\n",
       "2014-01-07  0.006568  0.009225  0.006123  0.007305\n",
       "2014-01-08 -0.003765  0.002179  0.000218 -0.000456\n",
       "...              ...       ...       ...       ...\n",
       "2015-04-07 -0.000952 -0.001700 -0.002650 -0.001767\n",
       "2015-04-08  0.001848  0.007908  0.003371  0.004376\n",
       "2015-04-09  0.003629  0.006263  0.004414  0.004769\n",
       "2015-04-10  0.005393  0.004092  0.005442  0.004976\n",
       "2015-04-13 -0.004055 -0.002509 -0.004533 -0.003699\n",
       "\n",
       "[321 rows x 4 columns]"
      ]
     },
     "execution_count": 4,
     "metadata": {},
     "output_type": "execute_result"
    }
   ],
   "source": [
    "weeklyDf"
   ]
  },
  {
   "cell_type": "markdown",
   "metadata": {},
   "source": [
    "# Trading perf"
   ]
  },
  {
   "cell_type": "code",
   "execution_count": 14,
   "metadata": {
    "execution": {
     "iopub.execute_input": "2020-09-30T14:25:06.243675Z",
     "iopub.status.busy": "2020-09-30T14:25:06.242684Z",
     "iopub.status.idle": "2020-09-30T14:25:06.296925Z",
     "shell.execute_reply": "2020-09-30T14:25:06.295925Z",
     "shell.execute_reply.started": "2020-09-30T14:25:06.243675Z"
    }
   },
   "outputs": [],
   "source": [
    "Table7 = pd.DataFrame({})\n",
    "\n",
    "for ptf in ['DIA', 'SPY', 'QQQ', '1/N']:    \n",
    "    weeklyDf[ ptf + '_Cumulative_return' ] = (1 + weeklyDf[ ptf ]).cumprod()\n",
    "    \n",
    "    annualizedReturn = weeklyDf[ ptf ].cumsum().to_list()[-1] * 252 * (1/len(weeklyDf))\n",
    "    annualizedVol = weeklyDf[ ptf ].std() * np.sqrt(252)\n",
    "    downsideVol = weeklyDf.loc[weeklyDf[ ptf ] < 0][ ptf ].std() * np.sqrt(252)\n",
    "    maximumDrawdown = 100 * utils.MDD(weeklyDf, ptf + \"_Cumulative_return\", len(weeklyDf))\n",
    "    sharpeRatio = (100 * annualizedReturn - riskfreeRate)/ (100 * annualizedVol)\n",
    "    sortinoRatio = (100 * annualizedReturn - riskfreeRate)/ (100 * downsideVol)\n",
    "\n",
    "    Table = pd.DataFrame({'Strategies':[ptf],\n",
    "                          'Realized return (%)':[100 * annualizedReturn],\n",
    "                          'Sharpe Ratio':[sharpeRatio],\n",
    "                          'Sortino Ratio':[sortinoRatio],\n",
    "                          'Max drawdown (%)':[maximumDrawdown]\n",
    "                         })    \n",
    "    Table7 = pd.concat([Table7,Table],ignore_index=True)\n",
    "Table7.set_index()"
   ]
  },
  {
   "cell_type": "code",
   "execution_count": 15,
   "metadata": {
    "execution": {
     "iopub.execute_input": "2020-09-30T14:25:06.835594Z",
     "iopub.status.busy": "2020-09-30T14:25:06.834594Z",
     "iopub.status.idle": "2020-09-30T14:25:06.853583Z",
     "shell.execute_reply": "2020-09-30T14:25:06.852583Z",
     "shell.execute_reply.started": "2020-09-30T14:25:06.835594Z"
    }
   },
   "outputs": [
    {
     "data": {
      "text/html": [
       "<div>\n",
       "<style scoped>\n",
       "    .dataframe tbody tr th:only-of-type {\n",
       "        vertical-align: middle;\n",
       "    }\n",
       "\n",
       "    .dataframe tbody tr th {\n",
       "        vertical-align: top;\n",
       "    }\n",
       "\n",
       "    .dataframe thead th {\n",
       "        text-align: right;\n",
       "    }\n",
       "</style>\n",
       "<table border=\"1\" class=\"dataframe\">\n",
       "  <thead>\n",
       "    <tr style=\"text-align: right;\">\n",
       "      <th></th>\n",
       "      <th>Strategies</th>\n",
       "      <th>Realized return (%)</th>\n",
       "      <th>Sharpe Ratio</th>\n",
       "      <th>Sortino Ratio</th>\n",
       "      <th>Max drawdown (%)</th>\n",
       "    </tr>\n",
       "  </thead>\n",
       "  <tbody>\n",
       "    <tr>\n",
       "      <th>0</th>\n",
       "      <td>DIA</td>\n",
       "      <td>8.543654</td>\n",
       "      <td>0.531833</td>\n",
       "      <td>0.739671</td>\n",
       "      <td>-6.931405</td>\n",
       "    </tr>\n",
       "    <tr>\n",
       "      <th>1</th>\n",
       "      <td>SPY</td>\n",
       "      <td>11.610182</td>\n",
       "      <td>0.785750</td>\n",
       "      <td>1.087035</td>\n",
       "      <td>-7.375937</td>\n",
       "    </tr>\n",
       "    <tr>\n",
       "      <th>2</th>\n",
       "      <td>QQQ</td>\n",
       "      <td>17.108159</td>\n",
       "      <td>1.053613</td>\n",
       "      <td>1.420047</td>\n",
       "      <td>-8.384762</td>\n",
       "    </tr>\n",
       "    <tr>\n",
       "      <th>3</th>\n",
       "      <td>1/N</td>\n",
       "      <td>12.420665</td>\n",
       "      <td>0.833813</td>\n",
       "      <td>1.142637</td>\n",
       "      <td>-7.456279</td>\n",
       "    </tr>\n",
       "  </tbody>\n",
       "</table>\n",
       "</div>"
      ],
      "text/plain": [
       "  Strategies  Realized return (%)  Sharpe Ratio  Sortino Ratio  \\\n",
       "0        DIA             8.543654      0.531833       0.739671   \n",
       "1        SPY            11.610182      0.785750       1.087035   \n",
       "2        QQQ            17.108159      1.053613       1.420047   \n",
       "3        1/N            12.420665      0.833813       1.142637   \n",
       "\n",
       "   Max drawdown (%)  \n",
       "0         -6.931405  \n",
       "1         -7.375937  \n",
       "2         -8.384762  \n",
       "3         -7.456279  "
      ]
     },
     "execution_count": 15,
     "metadata": {},
     "output_type": "execute_result"
    }
   ],
   "source": [
    "Table7"
   ]
  },
  {
   "cell_type": "code",
   "execution_count": 8,
   "metadata": {
    "execution": {
     "iopub.execute_input": "2020-09-30T14:22:36.638653Z",
     "iopub.status.busy": "2020-09-30T14:22:36.638653Z",
     "iopub.status.idle": "2020-09-30T14:22:36.644650Z",
     "shell.execute_reply": "2020-09-30T14:22:36.643651Z",
     "shell.execute_reply.started": "2020-09-30T14:22:36.638653Z"
    }
   },
   "outputs": [
    {
     "data": {
      "text/plain": [
       "'1/N'"
      ]
     },
     "execution_count": 8,
     "metadata": {},
     "output_type": "execute_result"
    }
   ],
   "source": [
    "ptf"
   ]
  },
  {
   "cell_type": "code",
   "execution_count": null,
   "metadata": {},
   "outputs": [],
   "source": []
  }
 ],
 "metadata": {
  "kernelspec": {
   "display_name": "Python 3",
   "language": "python",
   "name": "python3"
  },
  "language_info": {
   "codemirror_mode": {
    "name": "ipython",
    "version": 3
   },
   "file_extension": ".py",
   "mimetype": "text/x-python",
   "name": "python",
   "nbconvert_exporter": "python",
   "pygments_lexer": "ipython3",
   "version": "3.7.7"
  }
 },
 "nbformat": 4,
 "nbformat_minor": 4
}
